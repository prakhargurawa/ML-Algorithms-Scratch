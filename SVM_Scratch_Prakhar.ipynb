{
  "nbformat": 4,
  "nbformat_minor": 0,
  "metadata": {
    "colab": {
      "name": "SVM_Scratch_Prakhar.ipynb",
      "provenance": []
    },
    "kernelspec": {
      "name": "python3",
      "display_name": "Python 3"
    }
  },
  "cells": [
    {
      "cell_type": "markdown",
      "metadata": {
        "id": "3TygOPRYKUHB"
      },
      "source": [
        "# Support Vector Machine Classifier\n",
        "\n",
        "In this notebook, we will implement SVM Classifier from scratch. For theoritical aspects please consider:\n",
        "\n",
        "\n",
        "1.   https://towardsdatascience.com/support-vector-machine-introduction-to-machine-learning-algorithms-934a444fca47\n",
        "2.   https://www.python-engineer.com/courses/mlfromscratch/07_svm/\n",
        "3. https://towardsdatascience.com/svm-implementation-from-scratch-python-2db2fc52e5c2\n"
      ]
    },
    {
      "cell_type": "markdown",
      "metadata": {
        "id": "-DPIWFSLLP63"
      },
      "source": [
        "**Import libraries**"
      ]
    },
    {
      "cell_type": "code",
      "metadata": {
        "id": "BQEJKZh1K--Q"
      },
      "source": [
        "#We are importing all necessary libraries to implement our model\n",
        "import matplotlib.pyplot as plt\n",
        "# this line tells the notebook to show plots \"inline\"\n",
        "%matplotlib inline\n",
        "import numpy as np\n",
        "import pandas as pd\n",
        "from sklearn.preprocessing import StandardScaler\n",
        "from sklearn.model_selection import train_test_split"
      ],
      "execution_count": 1,
      "outputs": []
    },
    {
      "cell_type": "markdown",
      "metadata": {
        "id": "D0EHAXBhLWy3"
      },
      "source": [
        "**SVM Scratch Implementation**"
      ]
    },
    {
      "cell_type": "code",
      "metadata": {
        "id": "6RWqg5PTLZhH"
      },
      "source": [
        "class SVM:\n",
        "    \n",
        "    def __init__(self, alpha=0.001,iterations=1000): # constructor function to intialize learning rate alpha, lambda param and number of iterations\n",
        "        self.alpha = alpha\n",
        "        self.iterations = iterations\n",
        "        # self.lambda_param = lambda_param (if in future user wants to give some well defined lambda param say for example : lambda_param=0.01 , currently taking as 1/epoch)\n",
        "        \n",
        "    def transformMultiClass(self,y,c): # utility function to convert given mutilclass vector to 2 class 0/1 vector\n",
        "        # Reference : https://stackoverflow.com/questions/56594598/change-1s-to-0-and-0s-to-1-in-numpy-array-without-looping/56594688\n",
        "        y_copy = y.copy()\n",
        "        indices_C = y==c            # all indices with class 'c'\n",
        "        indices_notC = y!=c         # all indices with classes other than 'c'\n",
        "        y_copy[indices_C]=1         # convert values to 1 for all class 'c'\n",
        "        y_copy[indices_notC]=-1     # convert values to 0 for all class other than 'c'\n",
        "        return y_copy\n",
        "\n",
        "    def compute_cost(self,W, X, Y):\n",
        "        # Reference : https://towardsdatascience.com/svm-implementation-from-scratch-python-2db2fc52e5c2\n",
        "        # calculate hinge loss - SVM uses hinge loss function\n",
        "        N = X.shape[0]\n",
        "        distances = 1 - Y * (np.dot(X, W))\n",
        "        distances[distances < 0] = 0  # equivalent to max(0, distance)\n",
        "        hinge_loss = 10000 * (np.sum(distances) / N) # 10000 is regularization parameter (fixed for now)\n",
        "        # calculate cost\n",
        "        cost = 1 / 2 * np.dot(W, W) + hinge_loss\n",
        "        return cost\n",
        "\n",
        "\n",
        "    def fit(self,X,y):\n",
        "        n_samples, n_features = X.shape\n",
        "        self.costs = []\n",
        "        self.weights = []\n",
        "        classes = set(y)               # storing unique classes (our predicted output will be one of them)\n",
        "        # Using concept of one-vs-all where a particular class is treated as 1 and all other 0 and this process is repeated for all classes\n",
        "        for c in classes:\n",
        "            # weight updation for class 'c'\n",
        "            y_onevall = self.transformMultiClass(y,c)\n",
        "            weight = np.zeros(n_features) # initializing weights with 0 at beginning of SVM Classifier\n",
        "            bias = 0                      # initailizing bias as 0 at beginning of SVM Classifier\n",
        "            cost = list()\n",
        "            for itr in range(self.iterations):\n",
        "                for idx, x_i in enumerate(X): # iterating through full dataset\n",
        "                    lambda_param=1/(itr+1)    # regularization param ( will decrease with iteration)\n",
        "                    condition = y_onevall[idx] * (np.dot(x_i, weight) - bias) >= 1 # standard condition of SVM Classifier\n",
        "                    if condition:\n",
        "                        weight = weight - self.alpha * (2 * lambda_param * weight) # gradient update when no misclassification\n",
        "                    else:\n",
        "                        weight = weight - self.alpha * (2 * lambda_param * weight - np.dot(x_i, y_onevall[idx])) # gradient update when misclassification\n",
        "                        bias = bias - self.alpha * y_onevall[idx]\n",
        "                        \n",
        "                cst=self.compute_cost(weight,X,y_onevall)\n",
        "                cost.append(cst)\n",
        "            self.weights.append((weight,bias,c))\n",
        "            self.costs.append((cost,c))\n",
        "        return self\n",
        "    \n",
        "    def predict(self,X):\n",
        "        X_prediction = list() # storing predicted classes\n",
        "        for x in X:\n",
        "            class_predictions = [(np.dot(x, weight) - bias ,c) for weight,bias,c in self.weights] # This loop runs n times for n classes (multi class logistic regression one vs all)\n",
        "            X_prediction.append(max(class_predictions)[1])\n",
        "        return X_prediction\n",
        "\n",
        "    def score(self,X,y): # function to calculate numner of matches between actual classes and predicted classes by our model\n",
        "        size = len(y)        \n",
        "        return sum(self.predict(X)==y)/size # number of matches divided by total inputs\n",
        "    \n",
        "    def plotCost(self,costs): # utility function to plot cost value per class\n",
        "         for cost,c in costs   :\n",
        "                scaledCost = [ c/10000 for c in cost ] # Dividing by 10000 for scaled output\n",
        "                plt.plot(range(len(cost)),scaledCost,'blue')\n",
        "                plt.title(\" Cost Function for type \" + str(c) +\" vs All\")\n",
        "                plt.xlabel(\"Iterations\")\n",
        "                plt.ylabel(\"Cost\")\n",
        "                plt.show()"
      ],
      "execution_count": 2,
      "outputs": []
    },
    {
      "cell_type": "markdown",
      "metadata": {
        "id": "2-BKTJX_LdQG"
      },
      "source": [
        "**Import Dataset**"
      ]
    },
    {
      "cell_type": "code",
      "metadata": {
        "colab": {
          "base_uri": "https://localhost:8080/"
        },
        "id": "F__-mgINLiFv",
        "outputId": "57152b93-41e6-4f6e-8570-b9594a5262c9"
      },
      "source": [
        "from google.colab import drive\n",
        "drive.mount('/content/drive')"
      ],
      "execution_count": 3,
      "outputs": [
        {
          "output_type": "stream",
          "text": [
            "Mounted at /content/drive\n"
          ],
          "name": "stdout"
        }
      ]
    },
    {
      "cell_type": "code",
      "metadata": {
        "colab": {
          "base_uri": "https://localhost:8080/"
        },
        "id": "S5ZD_D1bLqxv",
        "outputId": "16a9cfaf-d7b2-45e0-b2d2-135391d085b1"
      },
      "source": [
        "# importing dataset using pandas   \n",
        "filename = 'drive/My Drive/datasets/beer.txt'\n",
        "header_list = ['caloric_value','nitrogen','turbidity','style','alcohol','sugars','biterness','beer_id','colour','degree_of_fermentation']\n",
        "data = pd.read_csv(filename,sep='\\t', header=None,dtype=str,names=header_list)\n",
        "data.dtypes"
      ],
      "execution_count": 5,
      "outputs": [
        {
          "output_type": "execute_result",
          "data": {
            "text/plain": [
              "caloric_value             object\n",
              "nitrogen                  object\n",
              "turbidity                 object\n",
              "style                     object\n",
              "alcohol                   object\n",
              "sugars                    object\n",
              "biterness                 object\n",
              "beer_id                   object\n",
              "colour                    object\n",
              "degree_of_fermentation    object\n",
              "dtype: object"
            ]
          },
          "metadata": {
            "tags": []
          },
          "execution_count": 5
        }
      ]
    },
    {
      "cell_type": "code",
      "metadata": {
        "id": "5FqT7KdEL3lG"
      },
      "source": [
        "# creating dependent and independent features\n",
        "y = data['style'].values\n",
        "X = data.drop(['style','beer_id'],axis=1).values"
      ],
      "execution_count": 6,
      "outputs": []
    },
    {
      "cell_type": "code",
      "metadata": {
        "id": "mBH1rfGLL5ze"
      },
      "source": [
        "# data stardaization pre-processing\n",
        "scaler = StandardScaler()\n",
        "X = scaler.fit_transform(X)"
      ],
      "execution_count": 7,
      "outputs": []
    },
    {
      "cell_type": "markdown",
      "metadata": {
        "id": "it6eJNX7L8L_"
      },
      "source": [
        "# Model Generation/Testing"
      ]
    },
    {
      "cell_type": "code",
      "metadata": {
        "colab": {
          "base_uri": "https://localhost:8080/"
        },
        "id": "p6kHojnTMFuG",
        "outputId": "88a789b1-8b0c-485a-b6c4-3ebe13d3bdd6"
      },
      "source": [
        "scores=list()\n",
        "print(\"SVM Classifier Learning\")\n",
        "for i in range(10):\n",
        "    X_train,X_test,y_train,y_test  = train_test_split(X, y, train_size = 2/3, shuffle = True)\n",
        "    model = SVM(alpha=0.001,iterations=1000)\n",
        "    model.fit(X_train, y_train)\n",
        "    prediction = model.predict(X_test)\n",
        "    score = model.score(X_test,y_test)\n",
        "    print(\"Accuracy \",i,\" = \",score)\n",
        "    scores.append(score)"
      ],
      "execution_count": 8,
      "outputs": [
        {
          "output_type": "stream",
          "text": [
            "SVM Classifier Learning\n",
            "Accuracy  0  =  0.9807692307692307\n",
            "Accuracy  1  =  0.8846153846153846\n",
            "Accuracy  2  =  0.9230769230769231\n",
            "Accuracy  3  =  0.9615384615384616\n",
            "Accuracy  4  =  0.9423076923076923\n",
            "Accuracy  5  =  0.9615384615384616\n",
            "Accuracy  6  =  0.9615384615384616\n",
            "Accuracy  7  =  0.9807692307692307\n",
            "Accuracy  8  =  0.9615384615384616\n",
            "Accuracy  9  =  0.9807692307692307\n"
          ],
          "name": "stdout"
        }
      ]
    },
    {
      "cell_type": "code",
      "metadata": {
        "colab": {
          "base_uri": "https://localhost:8080/"
        },
        "id": "EPTMfxAjMNLX",
        "outputId": "30601f74-1b96-47a0-b46c-1155e26596ba"
      },
      "source": [
        "print(\"Mean accuracy for SVM Classifier = \",np.mean(scores))"
      ],
      "execution_count": 9,
      "outputs": [
        {
          "output_type": "stream",
          "text": [
            "Mean accuracy for SVM Classifier =  0.9538461538461537\n"
          ],
          "name": "stdout"
        }
      ]
    },
    {
      "cell_type": "code",
      "metadata": {
        "colab": {
          "base_uri": "https://localhost:8080/",
          "height": 851
        },
        "id": "dWUEnsM8MRSe",
        "outputId": "fdbfa9e6-3f40-43fa-ff15-75234f1bf9b7"
      },
      "source": [
        "model.plotCost(model.costs)"
      ],
      "execution_count": 10,
      "outputs": [
        {
          "output_type": "display_data",
          "data": {
            "image/png": "[encoded data removed]",
            "text/plain": [
              "<Figure size 432x288 with 1 Axes>"
            ]
          },
          "metadata": {
            "tags": [],
            "needs_background": "light"
          }
        },
        {
          "output_type": "display_data",
          "data": {
            "image/png": "[encoded data removed]",
            "text/plain": [
              "<Figure size 432x288 with 1 Axes>"
            ]
          },
          "metadata": {
            "tags": [],
            "needs_background": "light"
          }
        },
        {
          "output_type": "display_data",
          "data": {
            "image/png": "[encoded data removed]",
            "text/plain": [
              "<Figure size 432x288 with 1 Axes>"
            ]
          },
          "metadata": {
            "tags": [],
            "needs_background": "light"
          }
        }
      ]
    }
  ]
}