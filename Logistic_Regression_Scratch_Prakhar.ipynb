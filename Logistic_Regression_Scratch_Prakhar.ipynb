{
  "nbformat": 4,
  "nbformat_minor": 0,
  "metadata": {
    "colab": {
      "name": "Logistic_Regression_Scratch_Prakhar.ipynb",
      "provenance": []
    },
    "kernelspec": {
      "name": "python3",
      "display_name": "Python 3"
    }
  },
  "cells": [
    {
      "cell_type": "markdown",
      "metadata": {
        "id": "2JLboVSQMcVX"
      },
      "source": [
        "# Logistic Regression Classifier \n",
        "\n",
        "In this notebook, we will implement Logistic Regression Classifier from scratch.For theoritical aspects please consider:\n",
        "\n",
        "1.   https://en.wikipedia.org/wiki/Logistic_regression#:~:text=Logistic%20regression%20is%20a%20statistical,a%20form%20of%20binary%20regression).\n",
        "2.   https://towardsdatascience.com/logistic-regression-from-scratch-69db4f587e17\n"
      ]
    },
    {
      "cell_type": "markdown",
      "metadata": {
        "id": "VDAb2Y5GM1LO"
      },
      "source": [
        "**Importing Libraries**"
      ]
    },
    {
      "cell_type": "code",
      "metadata": {
        "id": "CTUiT3UaMZ7H"
      },
      "source": [
        "# We are importing all necessary libraries to implement our model\n",
        "import matplotlib.pyplot as plt\n",
        "# this line tells the notebook to show plots \"inline\"\n",
        "%matplotlib inline\n",
        "import numpy as np\n",
        "import pandas as pd\n",
        "from sklearn.preprocessing import StandardScaler\n",
        "from sklearn.model_selection import train_test_split"
      ],
      "execution_count": 1,
      "outputs": []
    },
    {
      "cell_type": "markdown",
      "metadata": {
        "id": "0SV9Ia8rNcmu"
      },
      "source": [
        "**Logistic Regression Classifier Implementation**"
      ]
    },
    {
      "cell_type": "code",
      "metadata": {
        "id": "4Dsv3-J9Nh5j"
      },
      "source": [
        "class LogisticRegression:\n",
        "    \n",
        "    def __init__(self,alpha=0.01,iterations=1000): # constructor function to intialize learning rate alpha and number of iterations\n",
        "        self.alpha = alpha\n",
        "        self.iterations = iterations\n",
        "    \n",
        "    def sigmoid(self, z): # utility function to find sigmoid values of input\n",
        "        # Reference : https://stackoverflow.com/questions/47966728/how-to-fix-float-object-has-no-attribute-exp?noredirect=1&lq=1\n",
        "        z = np.array(z,dtype=float)\n",
        "        return 1 / (1 + np.exp(-z))\n",
        "    \n",
        "    def transformMultiClass(self,y,c): # utility function to convert given mutilclass vector to 2 class 0/1 vector\n",
        "        # Reference : https://stackoverflow.com/questions/56594598/change-1s-to-0-and-0s-to-1-in-numpy-array-without-looping/56594688\n",
        "        y_copy = y.copy()\n",
        "        indices_C = y==c            # all indices with class 'c'\n",
        "        indices_notC = y!=c         # all indices with classes other than 'c'\n",
        "        y_copy[indices_C]=1         # convert values to 1 for all class 'c'\n",
        "        y_copy[indices_notC]=0      # convert values to 0 for all class other than 'c'\n",
        "        return y_copy\n",
        "    \n",
        "    def gradientDescent(self,X,y,weight,h): # function to calculate gradient descent for logistic regression\n",
        "        # By calculus the derivative of cost function wrt weights comes out to be xi*(y_pred - y)\n",
        "        \"\"\"\n",
        "        # Reference : https://datascience.stackexchange.com/questions/22470/python-implementation-of-cost-function-in-logistic-regression-why-dot-multiplic\n",
        "        Cost function for Logistic Regression  = -1/m * np.sum(np.dot(Y,np.log(A)) + np.dot(1-Y, np.log(1-A)))\n",
        "        dw = 1/m * np.dot(X, dz.T)\n",
        "        \"\"\"\n",
        "        costGradient = np.dot(X.T, (h - y)) / len(y) # gradient of cost function for logistic regression (calculated using chain rule of calculus)\n",
        "        weight = weight - self.alpha * costGradient  # gradient descent process (updating weight on basis of cost gradients)\n",
        "        return weight\n",
        "    \n",
        "    def costFunction(self,y,weight,h): # defines cost function for logic regression\n",
        "        costValue = (1 / len(y)) * (np.sum(-y.T.dot(np.log(h)) - (1 - y).T.dot(np.log(1 - h)))) # Binary cross entropy loss function\n",
        "        return costValue\n",
        "    \n",
        "    def fit(self,X,y): # starts the logistic regression model by fitting our given dataset\n",
        "        self.costs = []\n",
        "        self.weights = []\n",
        "        X = np.insert(X, 0, 1, axis=1) # adding 1 for bias term\n",
        "        classes = set(y)               # storing unique classes (our predicted output will be one of them)\n",
        "        # Using concept of one-vs-all where a particular class is treated as 1 and all other 0 and this process is repeated for all classes\n",
        "        for c in classes:\n",
        "            # Gradient descent for class 'c' \n",
        "            y_onevall = self.transformMultiClass(y,c)\n",
        "            weight = np.zeros(X.shape[1]) # initializing weights with 0 at beginning of logistic regression\n",
        "            cost = list()\n",
        "            for itr in range(self.iterations):\n",
        "                z = X.dot(weight)\n",
        "                h = self.sigmoid(z)\n",
        "                weight = self.gradientDescent(X,y_onevall,weight,h)\n",
        "                cst = self.costFunction(y_onevall,weight,h)\n",
        "                cost.append(cst)\n",
        "            self.weights.append((weight,c))\n",
        "            self.costs.append((cost,c))\n",
        "        return self\n",
        "\n",
        "    def predict(self,X): # predict class values for given independent features  \n",
        "        X = np.insert(X, 0, 1, axis=1)\n",
        "        X_prediction = list() # storing predicted classes\n",
        "        for x in X:\n",
        "            class_predictions = [(self.sigmoid(x.dot(weight)),c) for weight,c in self.weights] # This loop runs n times for n classes (multi class logistic regression one vs all)\n",
        "            X_prediction.append(max(class_predictions)[1])                                     # append the class with maximum prediction value (probablity)\n",
        "        return X_prediction\n",
        "\n",
        "    def score(self,X,y): # function to calculate numner of matches between actual classes and predicted classes by our model\n",
        "        size = len(y)        \n",
        "        return sum(self.predict(X)==y)/size # number of matches divided by total inputs\n",
        "\n",
        "    def plotCost(self,costs): # utility function to plot cost value per class\n",
        "         for cost,c in costs   :\n",
        "                plt.plot(range(len(cost)),cost,'blue')\n",
        "                plt.title(\" Cost Function for type \" + str(c) +\" vs All\")\n",
        "                plt.xlabel(\"Iterations\")\n",
        "                plt.ylabel(\"Cost\")\n",
        "                plt.show()\n"
      ],
      "execution_count": 2,
      "outputs": []
    },
    {
      "cell_type": "markdown",
      "metadata": {
        "id": "x0OFYE1yNm2u"
      },
      "source": [
        "**Importing dataset**"
      ]
    },
    {
      "cell_type": "code",
      "metadata": {
        "colab": {
          "base_uri": "https://localhost:8080/"
        },
        "id": "6aZJMLcdNpdf",
        "outputId": "80195df5-f9e1-4b22-87e5-85691b2ed1e1"
      },
      "source": [
        "from google.colab import drive\n",
        "drive.mount('/content/drive')"
      ],
      "execution_count": 3,
      "outputs": [
        {
          "output_type": "stream",
          "text": [
            "Mounted at /content/drive\n"
          ],
          "name": "stdout"
        }
      ]
    },
    {
      "cell_type": "code",
      "metadata": {
        "colab": {
          "base_uri": "https://localhost:8080/"
        },
        "id": "dze0i-jZNvw9",
        "outputId": "000b332a-f695-40da-8a27-9cd10fbe0060"
      },
      "source": [
        "# importing dataset using pandas   \n",
        "filename = 'drive/My Drive/datasets/beer.txt'\n",
        "header_list = ['caloric_value','nitrogen','turbidity','style','alcohol','sugars','biterness','beer_id','colour','degree_of_fermentation']\n",
        "data = pd.read_csv(filename,sep='\\t', header=None,dtype=str,names=header_list)\n",
        "data.dtypes"
      ],
      "execution_count": 4,
      "outputs": [
        {
          "output_type": "execute_result",
          "data": {
            "text/plain": [
              "caloric_value             object\n",
              "nitrogen                  object\n",
              "turbidity                 object\n",
              "style                     object\n",
              "alcohol                   object\n",
              "sugars                    object\n",
              "biterness                 object\n",
              "beer_id                   object\n",
              "colour                    object\n",
              "degree_of_fermentation    object\n",
              "dtype: object"
            ]
          },
          "metadata": {
            "tags": []
          },
          "execution_count": 4
        }
      ]
    },
    {
      "cell_type": "code",
      "metadata": {
        "id": "qLGVchosNx3l"
      },
      "source": [
        "# creating dependent and independent features\n",
        "y = data['style'].values\n",
        "X = data.drop(['style','beer_id'],axis=1).values"
      ],
      "execution_count": 5,
      "outputs": []
    },
    {
      "cell_type": "code",
      "metadata": {
        "id": "FEKwuhENNzyN"
      },
      "source": [
        "# data stardaization pre-processing\n",
        "scaler = StandardScaler()\n",
        "X = scaler.fit_transform(X)"
      ],
      "execution_count": 6,
      "outputs": []
    },
    {
      "cell_type": "markdown",
      "metadata": {
        "id": "EmaaAsNHN1vF"
      },
      "source": [
        "# Model Generation/Testing"
      ]
    },
    {
      "cell_type": "code",
      "metadata": {
        "colab": {
          "base_uri": "https://localhost:8080/"
        },
        "id": "CncvyUoyN5BG",
        "outputId": "95e482ea-1a92-4df2-8d81-95fdc74eae38"
      },
      "source": [
        "scores=list()\n",
        "print(\"Logistic Regression Classifier Learning\")\n",
        "for i in range(10):\n",
        "    X_train,X_test,y_train,y_test  = train_test_split(X, y, train_size = 2/3, shuffle = True)\n",
        "    model = LogisticRegression(alpha=0.01,iterations=1000)\n",
        "    model.fit(X_train, y_train)\n",
        "    prediction = model.predict(X_test)\n",
        "    score = model.score(X_test,y_test)\n",
        "    print(\"Accuracy \",i,\" = \",score)\n",
        "    scores.append(score)"
      ],
      "execution_count": 7,
      "outputs": [
        {
          "output_type": "stream",
          "text": [
            "Logistic Regression Classifier Learning\n",
            "Accuracy  0  =  0.9615384615384616\n",
            "Accuracy  1  =  0.9615384615384616\n",
            "Accuracy  2  =  0.9807692307692307\n",
            "Accuracy  3  =  0.9807692307692307\n",
            "Accuracy  4  =  0.9615384615384616\n",
            "Accuracy  5  =  0.9615384615384616\n",
            "Accuracy  6  =  0.9230769230769231\n",
            "Accuracy  7  =  0.9423076923076923\n",
            "Accuracy  8  =  0.9615384615384616\n",
            "Accuracy  9  =  0.9615384615384616\n"
          ],
          "name": "stdout"
        }
      ]
    },
    {
      "cell_type": "code",
      "metadata": {
        "colab": {
          "base_uri": "https://localhost:8080/"
        },
        "id": "1h79FlN7N9dt",
        "outputId": "ef86b661-858f-4b66-9229-81f248701ac3"
      },
      "source": [
        "print(\"Mean accuracy for Logistic Regression Classifier = \",np.mean(scores))"
      ],
      "execution_count": 8,
      "outputs": [
        {
          "output_type": "stream",
          "text": [
            "Mean accuracy for Logistic Regression Classifier =  0.9596153846153846\n"
          ],
          "name": "stdout"
        }
      ]
    },
    {
      "cell_type": "code",
      "metadata": {
        "colab": {
          "base_uri": "https://localhost:8080/",
          "height": 851
        },
        "id": "68ucB7r9OAnf",
        "outputId": "334908ed-b7f8-4c48-b34e-69e313b96cf5"
      },
      "source": [
        "model.plotCost(model.costs)"
      ],
      "execution_count": 9,
      "outputs": [
        {
          "output_type": "display_data",
          "data": {
            "image/png": "[encoded data removed]",
            "text/plain": [
              "<Figure size 432x288 with 1 Axes>"
            ]
          },
          "metadata": {
            "tags": [],
            "needs_background": "light"
          }
        },
        {
          "output_type": "display_data",
          "data": {
            "image/png": "[encoded data removed]",
            "text/plain": [
              "<Figure size 432x288 with 1 Axes>"
            ]
          },
          "metadata": {
            "tags": [],
            "needs_background": "light"
          }
        },
        {
          "output_type": "display_data",
          "data": {
            "image/png": "[encoded data removed]",
            "text/plain": [
              "<Figure size 432x288 with 1 Axes>"
            ]
          },
          "metadata": {
            "tags": [],
            "needs_background": "light"
          }
        }
      ]
    }
  ]
}