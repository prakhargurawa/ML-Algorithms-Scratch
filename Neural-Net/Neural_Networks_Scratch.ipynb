{
  "nbformat": 4,
  "nbformat_minor": 0,
  "metadata": {
    "colab": {
      "name": "Neural_Networks_Scratch.ipynb",
      "provenance": [],
      "collapsed_sections": []
    },
    "kernelspec": {
      "name": "python3",
      "display_name": "Python 3"
    }
  },
  "cells": [
    {
      "cell_type": "markdown",
      "metadata": {
        "id": "FyTfod6AjCXS"
      },
      "source": [
        "## Import Libraries"
      ]
    },
    {
      "cell_type": "code",
      "metadata": {
        "id": "8ivV1gdWi89Z"
      },
      "source": [
        "# Package imports\r\n",
        "import matplotlib\r\n",
        "import matplotlib.pyplot as plt\r\n",
        "import sklearn\r\n",
        "import sklearn.datasets\r\n",
        "import pandas as pd\r\n",
        "import numpy as np\r\n",
        "import random\r\n",
        "from sklearn.model_selection import train_test_split\r\n",
        "import seaborn as sns\r\n",
        "import itertools\r\n",
        "\r\n",
        "# Display plots inline and change default figure size\r\n",
        "%matplotlib inline"
      ],
      "execution_count": 10,
      "outputs": []
    },
    {
      "cell_type": "markdown",
      "metadata": {
        "id": "JTxb_5Y4jYI5"
      },
      "source": [
        "First we will try to classify a fully linearly seperable dataset using a logistic regression implemented from scratch using neural net mindset (forward and backpropagation)"
      ]
    },
    {
      "cell_type": "code",
      "metadata": {
        "colab": {
          "base_uri": "https://localhost:8080/"
        },
        "id": "pCs83fmWju-w",
        "outputId": "037fb957-446b-46ec-e5fb-efb590b1c290"
      },
      "source": [
        "# Mounting google drive\r\n",
        "from google.colab import drive\r\n",
        "drive.mount('/content/drive')"
      ],
      "execution_count": 76,
      "outputs": [
        {
          "output_type": "stream",
          "text": [
            "Drive already mounted at /content/drive; to attempt to forcibly remount, call drive.mount(\"/content/drive\", force_remount=True).\n"
          ],
          "name": "stdout"
        }
      ]
    },
    {
      "cell_type": "code",
      "metadata": {
        "id": "GHkMXMA3jsqg"
      },
      "source": [
        "# Use pandas to read the CSV file as a dataframe\r\n",
        "df = pd.read_csv(\"drive/My Drive/datasets/blobs250.csv\")"
      ],
      "execution_count": 17,
      "outputs": []
    },
    {
      "cell_type": "code",
      "metadata": {
        "colab": {
          "base_uri": "https://localhost:8080/",
          "height": 195
        },
        "id": "Fm_ANokIlQGx",
        "outputId": "335c4f2c-4356-493e-e596-aa4312db7da7"
      },
      "source": [
        "df.head(5)"
      ],
      "execution_count": 18,
      "outputs": [
        {
          "output_type": "execute_result",
          "data": {
            "text/html": [
              "<div>\n",
              "<style scoped>\n",
              "    .dataframe tbody tr th:only-of-type {\n",
              "        vertical-align: middle;\n",
              "    }\n",
              "\n",
              "    .dataframe tbody tr th {\n",
              "        vertical-align: top;\n",
              "    }\n",
              "\n",
              "    .dataframe thead th {\n",
              "        text-align: right;\n",
              "    }\n",
              "</style>\n",
              "<table border=\"1\" class=\"dataframe\">\n",
              "  <thead>\n",
              "    <tr style=\"text-align: right;\">\n",
              "      <th></th>\n",
              "      <th>X0</th>\n",
              "      <th>X1</th>\n",
              "      <th>X2</th>\n",
              "      <th>Class</th>\n",
              "    </tr>\n",
              "  </thead>\n",
              "  <tbody>\n",
              "    <tr>\n",
              "      <th>0</th>\n",
              "      <td>0.961400</td>\n",
              "      <td>5.677191</td>\n",
              "      <td>11.407020</td>\n",
              "      <td>0</td>\n",
              "    </tr>\n",
              "    <tr>\n",
              "      <th>1</th>\n",
              "      <td>2.372228</td>\n",
              "      <td>5.335292</td>\n",
              "      <td>9.460564</td>\n",
              "      <td>0</td>\n",
              "    </tr>\n",
              "    <tr>\n",
              "      <th>2</th>\n",
              "      <td>2.022249</td>\n",
              "      <td>7.501127</td>\n",
              "      <td>9.072816</td>\n",
              "      <td>0</td>\n",
              "    </tr>\n",
              "    <tr>\n",
              "      <th>3</th>\n",
              "      <td>4.464773</td>\n",
              "      <td>7.819388</td>\n",
              "      <td>9.183951</td>\n",
              "      <td>0</td>\n",
              "    </tr>\n",
              "    <tr>\n",
              "      <th>4</th>\n",
              "      <td>1.191087</td>\n",
              "      <td>5.880269</td>\n",
              "      <td>10.119531</td>\n",
              "      <td>0</td>\n",
              "    </tr>\n",
              "  </tbody>\n",
              "</table>\n",
              "</div>"
            ],
            "text/plain": [
              "         X0        X1         X2  Class\n",
              "0  0.961400  5.677191  11.407020      0\n",
              "1  2.372228  5.335292   9.460564      0\n",
              "2  2.022249  7.501127   9.072816      0\n",
              "3  4.464773  7.819388   9.183951      0\n",
              "4  1.191087  5.880269  10.119531      0"
            ]
          },
          "metadata": {
            "tags": []
          },
          "execution_count": 18
        }
      ]
    },
    {
      "cell_type": "code",
      "metadata": {
        "colab": {
          "base_uri": "https://localhost:8080/"
        },
        "id": "klQk9PivlUJB",
        "outputId": "1fc0b548-e015-44ba-e6e5-799eaafd3bb2"
      },
      "source": [
        "df.info()"
      ],
      "execution_count": 19,
      "outputs": [
        {
          "output_type": "stream",
          "text": [
            "<class 'pandas.core.frame.DataFrame'>\n",
            "RangeIndex: 250 entries, 0 to 249\n",
            "Data columns (total 4 columns):\n",
            " #   Column  Non-Null Count  Dtype  \n",
            "---  ------  --------------  -----  \n",
            " 0   X0      250 non-null    float64\n",
            " 1   X1      250 non-null    float64\n",
            " 2   X2      250 non-null    float64\n",
            " 3   Class   250 non-null    int64  \n",
            "dtypes: float64(3), int64(1)\n",
            "memory usage: 7.9 KB\n"
          ],
          "name": "stdout"
        }
      ]
    },
    {
      "cell_type": "code",
      "metadata": {
        "colab": {
          "base_uri": "https://localhost:8080/",
          "height": 269
        },
        "id": "R-llhPEZlXeZ",
        "outputId": "fe6b156f-bc9f-4a67-f75b-8f8c9310e035"
      },
      "source": [
        "sns.heatmap(df.isnull())\r\n",
        "plt.show()"
      ],
      "execution_count": 20,
      "outputs": [
        {
          "output_type": "display_data",
          "data": {
            "image/png": "[encoded data removed]",
            "text/plain": [
              "<Figure size 432x288 with 2 Axes>"
            ]
          },
          "metadata": {
            "tags": [],
            "needs_background": "light"
          }
        }
      ]
    },
    {
      "cell_type": "code",
      "metadata": {
        "id": "k9Nb4YHNksW6"
      },
      "source": [
        "# The y values are those labelled 'Class': extract their values\r\n",
        "y = df['Class'].values\r\n",
        "\r\n",
        "# The x values are all other columns\r\n",
        "X = df.values     # convert the remaining columns to a numpy array"
      ],
      "execution_count": 21,
      "outputs": []
    },
    {
      "cell_type": "code",
      "metadata": {
        "colab": {
          "base_uri": "https://localhost:8080/"
        },
        "id": "p8skXPYvkx_o",
        "outputId": "915f6127-c7b6-4e51-a3fc-8361c10a7720"
      },
      "source": [
        "# Some examples of working with the data, to look at rows/columns\r\n",
        "print (\"len(X):\", len(X))            # outer array: one per sample\r\n",
        "print (\"len(X[0]):\", len(X[0]))      # each inner array is the attributes of one sample\r\n",
        "print (\"len(X[:,0]):\", len(X[:,0]))  # select column 0 from array\r\n",
        "\r\n",
        "# np.shape returns all dimensions of the array\r\n",
        "(nsamples, nattribs) = np.shape(X)\r\n",
        "print (\"X: nsamples =\", nsamples, \", nattribs =\", nattribs)\r\n",
        "\r\n",
        "# Now example the y vector (1D array)\r\n",
        "print (\"len(y)\", len(y))\r\n",
        "print (\"np.shape(y):\", np.shape(y))\r\n",
        "\r\n",
        "# You can transpose the y data using 'reshape'\r\n",
        "yt = np.reshape(y, (len(y),1))  \r\n",
        "print (\"np.shape(yt):\", np.shape(yt))\r\n",
        "(nsamples, nattribs) = np.shape(yt)\r\n",
        "print (\"y transpose: nsamples =\", nsamples, \", nattribs =\", nattribs)"
      ],
      "execution_count": 22,
      "outputs": [
        {
          "output_type": "stream",
          "text": [
            "len(X): 250\n",
            "len(X[0]): 4\n",
            "len(X[:,0]): 250\n",
            "X: nsamples = 250 , nattribs = 4\n",
            "len(y) 250\n",
            "np.shape(y): (250,)\n",
            "np.shape(yt): (250, 1)\n",
            "y transpose: nsamples = 250 , nattribs = 1\n"
          ],
          "name": "stdout"
        }
      ]
    },
    {
      "cell_type": "code",
      "metadata": {
        "colab": {
          "base_uri": "https://localhost:8080/",
          "height": 282
        },
        "id": "G0tiG1LJk0-Z",
        "outputId": "7358949f-02e2-4fdc-9d50-37950ba2e0da"
      },
      "source": [
        "# plot X[0] vs X[1] and colour points according to the class, y\r\n",
        "plt.scatter(X[:,0], X[:,1], c=y)  "
      ],
      "execution_count": 23,
      "outputs": [
        {
          "output_type": "execute_result",
          "data": {
            "text/plain": [
              "<matplotlib.collections.PathCollection at 0x7fd409105490>"
            ]
          },
          "metadata": {
            "tags": []
          },
          "execution_count": 23
        },
        {
          "output_type": "display_data",
          "data": {
            "image/png": "[encoded data removed]",
            "text/plain": [
              "<Figure size 432x288 with 1 Axes>"
            ]
          },
          "metadata": {
            "tags": [],
            "needs_background": "light"
          }
        }
      ]
    },
    {
      "cell_type": "markdown",
      "metadata": {
        "id": "yEr8zkBak61A"
      },
      "source": [
        "## Splitting dataset in train/test"
      ]
    },
    {
      "cell_type": "code",
      "metadata": {
        "id": "HwgCpFD-k-hI"
      },
      "source": [
        "# extract the features and target variable\r\n",
        "features = df.drop(columns=\"Class\")\r\n",
        "target = df[\"Class\"]\r\n",
        "x_train,x_test,y_train,y_test=train_test_split(features,target,test_size=0.20)"
      ],
      "execution_count": 24,
      "outputs": []
    },
    {
      "cell_type": "markdown",
      "metadata": {
        "id": "5lPn3euQlc0g"
      },
      "source": [
        "# Data Scaling\r\n",
        "\r\n",
        "the min_max_scaler is a function which takes the data column by column and scale the data on the bases of minimum and maximum value of the column and makes the data scale so that it can be used for better prediction. $$ x\\_scaled(x) =  \\frac{x-min(x)}{max(x)–min(x)} $$ The given formula is used to scale the data. The range used id {0,1}\r\n",
        "\r\n",
        "ref for scaler: https://towardsdatascience.com/preprocessing-with-sklearn-a-complete-and-comprehensive-guide-670cb98fcfb9"
      ]
    },
    {
      "cell_type": "code",
      "metadata": {
        "id": "5BiAuNSUlo2B"
      },
      "source": [
        "def min_max_scaler(data):\r\n",
        "    # describe_dataframe contains the statistical data of the data frame like min, max, std..... for all columns\r\n",
        "    describe_dataframe=data.describe()\r\n",
        "    # the minimum and the maximum values array is extracted from the describe_dataframe so that it can be used to scale the data\r\n",
        "    min_array=list(describe_dataframe.iloc[3]) # the third row is minumum array for all column in describe\r\n",
        "    max_array=list(describe_dataframe.iloc[7]) # the seventh row is maximum array for all column in describe\r\n",
        "    for row in range(data.shape[0]):\r\n",
        "        for col in range(data.shape[1]):\r\n",
        "            # x_scaled = (x-min(x)) / (max(x)–min(x)) ....... this is the formula coded below  \r\n",
        "            data.iloc[row][col]=(data.iloc[row][col]-min_array[col])/(max_array[col]-min_array[col]) # min max scaler\r\n",
        "    return data"
      ],
      "execution_count": 25,
      "outputs": []
    },
    {
      "cell_type": "code",
      "metadata": {
        "id": "J1pS-0FNl02y"
      },
      "source": [
        "scaled_training_data=min_max_scaler(x_train).values\r\n",
        "scaled_test_data = min_max_scaler(x_test).values"
      ],
      "execution_count": 26,
      "outputs": []
    },
    {
      "cell_type": "markdown",
      "metadata": {
        "id": "Zz6-dTI_m7Lx"
      },
      "source": [
        "## Model Training and Prediction (self)\r\n",
        "In linear regration we predict continues value. But unlikely in logistic we have to deatl with the binary values like {0,1}. we have to give answer like the given value will belong to which cluster of class. We get range of probability on which bases we create a threashold and select the classification.\r\n",
        "\r\n",
        "the below is the sigmoidal funciton which creates a curve for binary classification: $$ g(z) =  \\frac{1}{1+e^{-z}} $$"
      ]
    },
    {
      "cell_type": "code",
      "metadata": {
        "id": "-GI0Qmtom9Pg"
      },
      "source": [
        "def sigmoid(z):\r\n",
        "    sig_z=1 / (1 + np.exp(-z))\r\n",
        "    return sig_z"
      ],
      "execution_count": 27,
      "outputs": []
    },
    {
      "cell_type": "markdown",
      "metadata": {
        "id": "KiY67y91nDCg"
      },
      "source": [
        "In simple words if it is said cost is the amount of efforts to reach the minima so that the prediction can be done. it gives the distance of predicted value from the orginal. \r\n",
        "Here we do not do sum as we are calcualting on single value\r\n",
        "\r\n",
        "$$ Cost ={y^{(i)} log(y^{(i)}) + (1-y^{(i)})log((1-y^{(i)})})$$"
      ]
    },
    {
      "cell_type": "code",
      "metadata": {
        "id": "a8uS-lGmnChx"
      },
      "source": [
        "def cost(y_hat,y):\r\n",
        "    c = y*np.log(y_hat)+(1-y)*np.log(1-y_hat)\r\n",
        "    # c= -(1/len(y)) * np.sum(y*np.log(y_hat) + (1-y)*np.log(1-y_hat))\r\n",
        "    return c"
      ],
      "execution_count": 28,
      "outputs": []
    },
    {
      "cell_type": "markdown",
      "metadata": {
        "id": "wMuc1ugtnZSQ"
      },
      "source": [
        "# Learning weights and bias"
      ]
    },
    {
      "cell_type": "code",
      "metadata": {
        "id": "I72KXEjpnbkA"
      },
      "source": [
        "# here we take the y_hat, y  and x and than we try to get the weights\r\n",
        "def get_weight(y_hat,y,x):\r\n",
        "    # we subtract out y_hat with the value of y then we multiply to get the delta wights\r\n",
        "    del_wig = (y_hat-y)*x\r\n",
        "    ##return the value of delta wight\r\n",
        "    return del_wig"
      ],
      "execution_count": 29,
      "outputs": []
    },
    {
      "cell_type": "code",
      "metadata": {
        "id": "aPXZHwudngYo"
      },
      "source": [
        "def get_bias(y_hat,y):\r\n",
        "    ## here we subtract our y_hat with the value of y to get the delta bias\r\n",
        "    del_bias = y_hat-y\r\n",
        "    ## return delta bias\r\n",
        "    return del_bias"
      ],
      "execution_count": 30,
      "outputs": []
    },
    {
      "cell_type": "code",
      "metadata": {
        "id": "RcbxmCEfnltg"
      },
      "source": [
        "def modal_part_one(x,y,max_iter,alpha,threshold=10**-6):\r\n",
        "\r\n",
        "    ## take a random wight at the start, it can be any wight because through the iteration we will be going to update it \r\n",
        "    weight=np.random.normal(0,0.01,x.shape[1])\r\n",
        "    ## it is the bias it will also any number but we take a uniform array of biases throught out, we will be adding out bias to weights\r\n",
        "    bias=np.random.uniform(0,1)\r\n",
        "    costList = []\r\n",
        "    itrList = []\r\n",
        "\r\n",
        "    ## we will loop till the value of maximum teration or if the convergence comes before max iteration we break the loop\r\n",
        "    while(max_iter!=0):\r\n",
        "        index = np.random.randint(x.shape[0])\r\n",
        "        x_index = x[index]\r\n",
        "        y_index = y.values[index]\r\n",
        "\r\n",
        "        ## we valculate the value of y_hat and with the value of y_hat we find out cost\r\n",
        "        y_hat=sigmoid(np.dot(weight,x_index)+bias)\r\n",
        "        ## cost is calculated on the bases of the y_hat\r\n",
        "        cost_old=cost(y_hat,y_index)\r\n",
        "        if max_iter%100 == 0:\r\n",
        "            costList.append(cost_old)\r\n",
        "            itrList.append(max_iter)\r\n",
        "        #print(cost_old)\r\n",
        "\r\n",
        "        ## we update out wights \r\n",
        "        weight=weight-alpha*get_weight(y_hat,y_index,x_index)\r\n",
        "        ## update bias\r\n",
        "        bias=bias-alpha*get_bias(y_hat,y_index)\r\n",
        "\r\n",
        "        ## now with the updated bias and wights we calcualte our new cost\r\n",
        "        ## then new cost is more relevent as we have upadated our weights\r\n",
        "        y_hat=sigmoid(np.dot(weight,x_index)+bias)\r\n",
        "        cost_new=cost(y_hat,y_index)\r\n",
        "\r\n",
        "        ## we take the absolute value and break the loop then the cost difference is less then the threshold. \r\n",
        "        ## more low the threshold more accurate the values are\r\n",
        "        if abs(cost_old-cost_new) < threshold:\r\n",
        "            break\r\n",
        "        \r\n",
        "        ## we dicrease the iteration to reach end of the loop\r\n",
        "        max_iter = max_iter - 1\r\n",
        "\r\n",
        "    return {\"weight\":weight,\"bias\":bias,\"costList\":costList,\"itrList\":itrList,\"alpha\":alpha,\"threshold\":threshold}"
      ],
      "execution_count": 38,
      "outputs": []
    },
    {
      "cell_type": "code",
      "metadata": {
        "id": "86Fu77UenoCQ"
      },
      "source": [
        "## here we set the cut off threshold and with the wight and bias we calculate our target value\r\n",
        "def predict(x,w,b):\r\n",
        "    y_return = []\r\n",
        "    cut_off = 0.5\r\n",
        "    y_predict = np.dot(x,w)+b\r\n",
        "    for y in y_predict:\r\n",
        "        if y>cut_off:\r\n",
        "            y_return.append(1)\r\n",
        "        else:\r\n",
        "            y_return.append(0)\r\n",
        "    return y_return"
      ],
      "execution_count": 66,
      "outputs": []
    },
    {
      "cell_type": "code",
      "metadata": {
        "id": "LQ8Lhg8Ant5w"
      },
      "source": [
        "## here actual and predicted y values are compared and we find the accuracy\r\n",
        "def accuracy(predict_y,actual_y):\r\n",
        "    y_count = 0\r\n",
        "    for i in range(len(actual_y)):\r\n",
        "        if predict_y[i] == actual_y.values[i]:\r\n",
        "            y_count = y_count+1\r\n",
        "    return y_count/len(actual_y)"
      ],
      "execution_count": 40,
      "outputs": []
    },
    {
      "cell_type": "code",
      "metadata": {
        "colab": {
          "base_uri": "https://localhost:8080/",
          "height": 295
        },
        "id": "3Um_tjXPnymo",
        "outputId": "41a15565-a795-475f-f776-4e82330cff79"
      },
      "source": [
        "output = modal_part_one(x_train.values,y_train,max_iter=3000,alpha=0.03)\r\n",
        "w,b,costList,itrList,alpha,threshold = output[\"weight\"],output[\"bias\"],output[\"costList\"],output[\"itrList\"],output[\"alpha\"],output[\"threshold\"]\r\n",
        "\r\n",
        "plt.plot(itrList,costList,'red')\r\n",
        "plt.title(\"Cost Function vs Iteration at learning rate : \"+str(alpha)+\" threshold : \"+str(threshold))\r\n",
        "plt.xlabel(\"Iterations\")\r\n",
        "plt.ylabel(\"Cost\")\r\n",
        "plt.show()\r\n"
      ],
      "execution_count": 41,
      "outputs": [
        {
          "output_type": "display_data",
          "data": {
            "image/png": "[encoded data removed]",
            "text/plain": [
              "<Figure size 432x288 with 1 Axes>"
            ]
          },
          "metadata": {
            "tags": [],
            "needs_background": "light"
          }
        }
      ]
    },
    {
      "cell_type": "code",
      "metadata": {
        "id": "UKI1VrVFn1mg"
      },
      "source": [
        "y_pred = predict(scaled_test_data,w,b)"
      ],
      "execution_count": 42,
      "outputs": []
    },
    {
      "cell_type": "code",
      "metadata": {
        "colab": {
          "base_uri": "https://localhost:8080/"
        },
        "id": "KXpP-N5Sn3yo",
        "outputId": "e8e4e102-9fd4-4403-d137-706267c1414e"
      },
      "source": [
        "print('accuracy:',accuracy(y_pred,y_test))"
      ],
      "execution_count": 43,
      "outputs": [
        {
          "output_type": "stream",
          "text": [
            "accuracy: 1.0\n"
          ],
          "name": "stdout"
        }
      ]
    },
    {
      "cell_type": "markdown",
      "metadata": {
        "id": "9uf9z56VvM1Y"
      },
      "source": [
        "## Repeating the process on non linearly seperable dataset"
      ]
    },
    {
      "cell_type": "code",
      "metadata": {
        "colab": {
          "base_uri": "https://localhost:8080/",
          "height": 195
        },
        "id": "aqyYJLwbvBkX",
        "outputId": "a36e0dc2-a301-447f-8fee-15d1af865e67"
      },
      "source": [
        "# Use pandas to read the CSV file as a dataframe\r\n",
        "df = pd.read_csv(\"drive/My Drive/datasets/moons400.csv\")\r\n",
        "df.head(5)"
      ],
      "execution_count": 60,
      "outputs": [
        {
          "output_type": "execute_result",
          "data": {
            "text/html": [
              "<div>\n",
              "<style scoped>\n",
              "    .dataframe tbody tr th:only-of-type {\n",
              "        vertical-align: middle;\n",
              "    }\n",
              "\n",
              "    .dataframe tbody tr th {\n",
              "        vertical-align: top;\n",
              "    }\n",
              "\n",
              "    .dataframe thead th {\n",
              "        text-align: right;\n",
              "    }\n",
              "</style>\n",
              "<table border=\"1\" class=\"dataframe\">\n",
              "  <thead>\n",
              "    <tr style=\"text-align: right;\">\n",
              "      <th></th>\n",
              "      <th>X0</th>\n",
              "      <th>X1</th>\n",
              "      <th>Class</th>\n",
              "    </tr>\n",
              "  </thead>\n",
              "  <tbody>\n",
              "    <tr>\n",
              "      <th>0</th>\n",
              "      <td>2.071069</td>\n",
              "      <td>0.411529</td>\n",
              "      <td>1</td>\n",
              "    </tr>\n",
              "    <tr>\n",
              "      <th>1</th>\n",
              "      <td>-0.335398</td>\n",
              "      <td>1.032266</td>\n",
              "      <td>0</td>\n",
              "    </tr>\n",
              "    <tr>\n",
              "      <th>2</th>\n",
              "      <td>1.256631</td>\n",
              "      <td>-0.363937</td>\n",
              "      <td>1</td>\n",
              "    </tr>\n",
              "    <tr>\n",
              "      <th>3</th>\n",
              "      <td>1.269361</td>\n",
              "      <td>-0.379086</td>\n",
              "      <td>1</td>\n",
              "    </tr>\n",
              "    <tr>\n",
              "      <th>4</th>\n",
              "      <td>-0.839940</td>\n",
              "      <td>0.203669</td>\n",
              "      <td>0</td>\n",
              "    </tr>\n",
              "  </tbody>\n",
              "</table>\n",
              "</div>"
            ],
            "text/plain": [
              "         X0        X1  Class\n",
              "0  2.071069  0.411529      1\n",
              "1 -0.335398  1.032266      0\n",
              "2  1.256631 -0.363937      1\n",
              "3  1.269361 -0.379086      1\n",
              "4 -0.839940  0.203669      0"
            ]
          },
          "metadata": {
            "tags": []
          },
          "execution_count": 60
        }
      ]
    },
    {
      "cell_type": "code",
      "metadata": {
        "colab": {
          "base_uri": "https://localhost:8080/",
          "height": 416
        },
        "id": "_Esvll53vfH3",
        "outputId": "7275fb92-eb1b-4a0a-f2d1-0178b85b576e"
      },
      "source": [
        "# The y values are those labelled 'Class': extract their values\r\n",
        "y = df['Class'].values\r\n",
        "\r\n",
        "# The x values are all other columns\r\n",
        "X = df.values     # convert the remaining columns to a numpy array\r\n",
        "\r\n",
        "# Some examples of working with the data, to look at rows/columns\r\n",
        "print (\"len(X):\", len(X))            # outer array: one per sample\r\n",
        "print (\"len(X[0]):\", len(X[0]))      # each inner array is the attributes of one sample\r\n",
        "print (\"len(X[:,0]):\", len(X[:,0]))  # select column 0 from array\r\n",
        "\r\n",
        "# np.shape returns all dimensions of the array\r\n",
        "(nsamples, nattribs) = np.shape(X)\r\n",
        "print (\"X: nsamples =\", nsamples, \", nattribs =\", nattribs)\r\n",
        "\r\n",
        "# Now example the y vector (1D array)\r\n",
        "print (\"len(y)\", len(y))\r\n",
        "print (\"np.shape(y):\", np.shape(y))\r\n",
        "\r\n",
        "# You can transpose the y data using 'reshape'\r\n",
        "yt = np.reshape(y, (len(y),1))  \r\n",
        "print (\"np.shape(yt):\", np.shape(yt))\r\n",
        "(nsamples, nattribs) = np.shape(yt)\r\n",
        "print (\"y transpose: nsamples =\", nsamples, \", nattribs =\", nattribs)\r\n",
        "\r\n",
        "# plot X[0] vs X[1] and colour points according to the class, y\r\n",
        "plt.scatter(X[:,0], X[:,1], c=y)  "
      ],
      "execution_count": 61,
      "outputs": [
        {
          "output_type": "stream",
          "text": [
            "len(X): 400\n",
            "len(X[0]): 3\n",
            "len(X[:,0]): 400\n",
            "X: nsamples = 400 , nattribs = 3\n",
            "len(y) 400\n",
            "np.shape(y): (400,)\n",
            "np.shape(yt): (400, 1)\n",
            "y transpose: nsamples = 400 , nattribs = 1\n"
          ],
          "name": "stdout"
        },
        {
          "output_type": "execute_result",
          "data": {
            "text/plain": [
              "<matplotlib.collections.PathCollection at 0x7fd408ee2990>"
            ]
          },
          "metadata": {
            "tags": []
          },
          "execution_count": 61
        },
        {
          "output_type": "display_data",
          "data": {
            "image/png": "[encoded data removed]",
            "text/plain": [
              "<Figure size 432x288 with 1 Axes>"
            ]
          },
          "metadata": {
            "tags": [],
            "needs_background": "light"
          }
        }
      ]
    },
    {
      "cell_type": "code",
      "metadata": {
        "id": "5NOrD-PIvoiZ"
      },
      "source": [
        "# extract the features and target variable\r\n",
        "features = df.drop(columns=\"Class\")\r\n",
        "target = df[\"Class\"]\r\n",
        "x_train,x_test,y_train,y_test=train_test_split(features,target,test_size=0.20)"
      ],
      "execution_count": 62,
      "outputs": []
    },
    {
      "cell_type": "code",
      "metadata": {
        "id": "eBf9v5VovsAv"
      },
      "source": [
        "scaled_training_data=min_max_scaler(x_train).values\r\n",
        "scaled_test_data = min_max_scaler(x_test).values"
      ],
      "execution_count": 63,
      "outputs": []
    },
    {
      "cell_type": "code",
      "metadata": {
        "colab": {
          "base_uri": "https://localhost:8080/",
          "height": 295
        },
        "id": "MCcCKNSfvwXf",
        "outputId": "8c813bd8-c157-4990-d2e6-530def4b2772"
      },
      "source": [
        "output = modal_part_one(x_train.values,y_train,max_iter=3000,alpha=0.03)\r\n",
        "w,b,costList,itrList,alpha,threshold = output[\"weight\"],output[\"bias\"],output[\"costList\"],output[\"itrList\"],output[\"alpha\"],output[\"threshold\"]\r\n",
        "\r\n",
        "plt.plot(itrList,costList,'red')\r\n",
        "plt.title(\"Cost Function vs Iteration at learning rate : \"+str(alpha)+\" threshold : \"+str(threshold))\r\n",
        "plt.xlabel(\"Iterations\")\r\n",
        "plt.ylabel(\"Cost\")\r\n",
        "plt.show()"
      ],
      "execution_count": 64,
      "outputs": [
        {
          "output_type": "display_data",
          "data": {
            "image/png": "[encoded data removed]",
            "text/plain": [
              "<Figure size 432x288 with 1 Axes>"
            ]
          },
          "metadata": {
            "tags": [],
            "needs_background": "light"
          }
        }
      ]
    },
    {
      "cell_type": "code",
      "metadata": {
        "id": "EgKizzAOvzDJ"
      },
      "source": [
        "y_pred = predict(scaled_test_data,w,b)"
      ],
      "execution_count": 67,
      "outputs": []
    },
    {
      "cell_type": "code",
      "metadata": {
        "colab": {
          "base_uri": "https://localhost:8080/"
        },
        "id": "l2x_wgRxv1Rv",
        "outputId": "70f36a3f-d058-43d9-8692-98e3d81bf233"
      },
      "source": [
        "print('accuracy:',accuracy(y_pred,y_test))"
      ],
      "execution_count": 68,
      "outputs": [
        {
          "output_type": "stream",
          "text": [
            "accuracy: 0.8\n"
          ],
          "name": "stdout"
        }
      ]
    },
    {
      "cell_type": "markdown",
      "metadata": {
        "id": "d1BAZJI5v5ff"
      },
      "source": [
        "# Shallow Neural Networks\r\n",
        "\r\n",
        "Activation Function Hyperbolic tangent: $$ tanh(z) = \\frac {e^{z}-e^{-z}}{e^{z}+e^{-z}} $$\r\n",
        "\r\n",
        "ref:\r\n",
        "1. http://ufldl.stanford.edu/tutorial/supervised/MultiLayerNeuralNetworks/"
      ]
    },
    {
      "cell_type": "code",
      "metadata": {
        "id": "jVZFuvDgwHbH"
      },
      "source": [
        "def hyperbolic_tangent_activation(z):\r\n",
        "    tanh = (np.exp(z)-np.exp(-z))/(np.exp(z)+np.exp(-z))\r\n",
        "    return tanh"
      ],
      "execution_count": 69,
      "outputs": []
    },
    {
      "cell_type": "markdown",
      "metadata": {
        "id": "_VRzvQO7wNlg"
      },
      "source": [
        "logistic : $$ f'(z) = f(z)(1-f(z)) $$"
      ]
    },
    {
      "cell_type": "code",
      "metadata": {
        "id": "FV_IUzHUwNVA"
      },
      "source": [
        "def logistic_activation(z):\r\n",
        "## we use the same sigmoid function created above\r\n",
        "    l_a = hyperbolic_tangent_activation(z).dot((1-hyperbolic_tangent_activation(z)).T)\r\n",
        "    return l_a"
      ],
      "execution_count": 70,
      "outputs": []
    },
    {
      "cell_type": "markdown",
      "metadata": {
        "id": "C1V8R0d7wV3B"
      },
      "source": [
        "ref: http://ufldl.stanford.edu/tutorial/supervised/MultiLayerNeuralNetworks/ \r\n",
        "\r\n",
        "1: Set ΔW(l):=0, Δb(l):=0 (matrix/vector of zeros) for all l.\r\n",
        "\r\n",
        "2: For i=1 to m, \r\n",
        "\r\n",
        "$\\quad$   1. Use backpropagation to compute $ ∇W(l)J(W,b;x,y) and ∇b(l)J(W,b;x,y)$. \r\n",
        "\r\n",
        "$\\quad$   2. Set $ ΔW(l):=ΔW(l)+∇W(l)J(W,b;x,y) $. \r\n",
        "\r\n",
        "$\\quad$   3. Set $ Δb(l):=Δb(l)+∇b(l)J(W,b;x,y) $. \r\n",
        "\r\n",
        "3.Update the parameters:\r\n",
        "$$ W^{(l)}=W^{(l)}−α \\left[ \\left( \\frac{1}{m}ΔW^{(l)} \\right) +λW^{(l)} \\right] $$ \r\n",
        "\r\n",
        "$$ b^{(l)}=b^{(l)}−α \\left[ \\frac{1}{m}Δb^{(l)} \\right] $$"
      ]
    },
    {
      "cell_type": "code",
      "metadata": {
        "id": "5Cn8N-fUwVTP"
      },
      "source": [
        "def modal_part_two(x,y,hidden_layer=2,output_layer=1,max_itr=10000,alpha=0.03,threshold=10**-6):\r\n",
        "    ## input layer - it the list of all the features on which we want to calculate the weight, bias and target value\r\n",
        "    input_layer=x.shape[1]\r\n",
        "    \r\n",
        "    ## we start with the assignmanet of the random wights at the start\r\n",
        "    ## we take the initial weights for layer one\r\n",
        "    layer_one_weights=np.random.normal(0,0.01,(input_layer,hidden_layer))\r\n",
        "    ## we take the initial weights for layer two\r\n",
        "    layer_two_weights=np.random.normal(0,0.01,(hidden_layer,output_layer))\r\n",
        "    \r\n",
        "    ## we take the initial bias for layer one\r\n",
        "    layer_one_bias=np.random.uniform(0,1,hidden_layer).reshape(1,hidden_layer)\r\n",
        "    ## we take the initial bias for layer one\r\n",
        "    layer_two_bias=np.random.uniform(0,1,output_layer).reshape(1,output_layer)\r\n",
        "    \r\n",
        "    ## start with the inital cost = zero\r\n",
        "    cost_old = 0\r\n",
        "    while (max_itr!=0):\r\n",
        "        \r\n",
        "        ## forward propogation\r\n",
        "        index = np.random.randint(x.shape[0])\r\n",
        "        ## the index should match and the index of the updated bias and weight \r\n",
        "        ## we are giving shape to the array without changing the data\r\n",
        "        x_index=x[index].reshape(x.shape[1],1)\r\n",
        "        y_index=y[index]\r\n",
        "        \r\n",
        "        ## sum of weighted inputs to ith node and lth layer(here the lth layer is first)\r\n",
        "        z_1=np.dot(x_index.T,layer_one_weights) + layer_one_bias\r\n",
        "        ## activation of the ith layer (here the ith layer it the first)\r\n",
        "        a_1 = sigmoid(z_1)\r\n",
        "        \r\n",
        "        ## sum of weighted inputs to ith node and lth layer(here the lth layer is second)\r\n",
        "        z_2 = np.dot(a_1,layer_two_weights) + layer_two_bias\r\n",
        "        ## activation of the ith node (here the ith node it the second)\r\n",
        "        a_2 = sigmoid(z_2)\r\n",
        "        \r\n",
        "        ## we get the new cost by the value of the activation function of the second node and y_index\r\n",
        "        cost_new=cost(a_2,y_index)\r\n",
        "        \r\n",
        "        ## id the absolute value of the cost function is less then the threshold then we break the loop\r\n",
        "        if abs(cost_old-cost_new)<threshold:\r\n",
        "            break\r\n",
        "\r\n",
        "        ## we update the old cost with the new\r\n",
        "        cost_old = cost_new\r\n",
        "        \r\n",
        "        ## back propogation\r\n",
        "        \r\n",
        "        ## we update our delta\r\n",
        "        delta_z2 = a_2-y_index\r\n",
        "        ## we update the layer two weights\r\n",
        "        delta_layer_two_weights = delta_z2*a_1\r\n",
        "        delta_layer_two_bias = delta_z2\r\n",
        "        \r\n",
        "        ## call the activation function to get the delta values\r\n",
        "        delta_z1 = np.matrix(logistic_activation(z_1)*(np.dot(delta_z2,layer_two_weights.T)))\r\n",
        "        ## update the delta weights\r\n",
        "        delta_layer_one_weights = np.dot(delta_z1.T,x_index.T)\r\n",
        "        ## update the delta bias \r\n",
        "        delta_layer_one_bias = delta_z1\r\n",
        "        \r\n",
        "        ## new weights are updation for the layers\r\n",
        "        layer_one_weights = layer_one_weights - alpha*np.matrix(delta_layer_one_weights).T\r\n",
        "        ## layer one new bias calculation\r\n",
        "        layer_one_bias = layer_one_bias - alpha*delta_layer_one_bias\r\n",
        "        ## new layer two weights\r\n",
        "        layer_two_weights = layer_two_weights - alpha*np.matrix(delta_layer_two_weights).T\r\n",
        "        ## new layer two bias\r\n",
        "        layer_two_bias = layer_two_bias - alpha*delta_layer_two_bias\r\n",
        "        \r\n",
        "        ## reduce iteraion as we want to end the while loop\r\n",
        "        max_itr = max_itr - 1\r\n",
        "    ## we now return the weights and bias to calculate the prediction of the target value\r\n",
        "    return layer_one_weights,layer_two_weights,layer_one_bias,layer_two_bias"
      ],
      "execution_count": 71,
      "outputs": []
    },
    {
      "cell_type": "code",
      "metadata": {
        "id": "GZ8hvUg-wsQQ"
      },
      "source": [
        "## here we take the x features, weights and biases to predict the values of target\r\n",
        "def predict(x,w_1,w_2,b_1,b_2):\r\n",
        "    \r\n",
        "    ## first we get the hidden values layer one\r\n",
        "    z_1 = np.dot(x,w_1) + b_1\r\n",
        "    a_1 = sigmoid(z_1)\r\n",
        "    \r\n",
        "    ## second we get the hidden values layer two\r\n",
        "    z_2 = np.dot(a_1,w_2) + b_2\r\n",
        "    a_2 = sigmoid(z_2)\r\n",
        "    y_return=[]\r\n",
        "    cut_off=0.5\r\n",
        "    ## we remove single-dimensional entries from the shape array\r\n",
        "    y_predict = a_2 \r\n",
        "    ## update values of i as per the threshold cutoff\r\n",
        "    for y in np.squeeze(np.asarray(y_predict)):\r\n",
        "        if y>cut_off:\r\n",
        "            y_return.append(1)\r\n",
        "        else:\r\n",
        "            y_return.append(0)\r\n",
        "            \r\n",
        "    return y_return"
      ],
      "execution_count": 72,
      "outputs": []
    },
    {
      "cell_type": "code",
      "metadata": {
        "id": "0xMRMs9EwvF4"
      },
      "source": [
        "w_1,w_2,b_1,b_2 = modal_part_two(scaled_training_data,y_train.values,2)"
      ],
      "execution_count": 73,
      "outputs": []
    },
    {
      "cell_type": "code",
      "metadata": {
        "id": "RwkKU0g-wzHP"
      },
      "source": [
        "y_pred = predict(scaled_test_data,w_1,w_2,b_1,b_2)"
      ],
      "execution_count": 74,
      "outputs": []
    },
    {
      "cell_type": "code",
      "metadata": {
        "colab": {
          "base_uri": "https://localhost:8080/"
        },
        "id": "F5OV9U-7w2n3",
        "outputId": "ecb2e618-a962-4891-95a5-5c42c89b1af6"
      },
      "source": [
        "accuracy(y_pred,y_test)"
      ],
      "execution_count": 75,
      "outputs": [
        {
          "output_type": "execute_result",
          "data": {
            "text/plain": [
              "0.85"
            ]
          },
          "metadata": {
            "tags": []
          },
          "execution_count": 75
        }
      ]
    },
    {
      "cell_type": "markdown",
      "metadata": {
        "id": "Pg_rsEsyxU_i"
      },
      "source": [
        "We can observe that the accuracy has been increased from .08 to .85 due to addition of one extra hidden layer"
      ]
    },
    {
      "cell_type": "markdown",
      "metadata": {
        "id": "tBakWd5Cxcx4"
      },
      "source": [
        "# Neural net classification on CIFAR Dataset\r\n",
        "\r\n",
        "Note that the CIFAR-10 images as displayed are quite fuzzy looking, because they are low res (32x32).\r\n",
        "\r\n",
        "Befor running this:\r\n",
        "\r\n",
        "Download the CIFAR-10 dataset from https://www.cs.toronto.edu/~kriz/cifar.html\r\n",
        "Unzip and extract the tar file to get individual files called data_batch_1, etc.\r\n",
        "\r\n",
        "References:  https://towardsdatascience.com/cifar-10-image-classification-in-tensorflow-5b501f7dc77c\r\n",
        "\r\n",
        "Description of the steps followed to solve the part \r\n",
        "  1. Read the batch data \r\n",
        "  2. Extract the image byte data from the batch \r\n",
        "  3. Read the labels from the batch data \r\n",
        "  4. Take out the indexes of all the labels which are required to predict \r\n",
        "  5. With the help of the indexes filter the bite data of the image  \r\n",
        "  6. now once we got the image data and the labels; we are now required to define feature and target  \r\n",
        "  7. Features = the filtered image data as per the index \r\n",
        "  8. Target = convert the extracted labels as per the indexes to 0 and 1. As it will be a binary classification \r\n",
        "  9. now we got our Features and Target we are ready to train our model; so train it \r\n",
        "  10. predict the values as per the cut-off value \r\n",
        "  11. predict the accuracy as per the given test data"
      ]
    },
    {
      "cell_type": "code",
      "metadata": {
        "id": "D_N7BHuayaq_"
      },
      "source": [
        "# This function taken from the CIFAR website\r\n",
        "def unpickle(file):\r\n",
        "    import pickle\r\n",
        "    with open(file, 'rb') as fo:\r\n",
        "        dict = pickle.load(fo, encoding='bytes')\r\n",
        "    return dict\r\n",
        "\r\n",
        "# Loaded in this way, each of the batch files contains a dictionary with the following elements:\r\n",
        "#   data -- a 10000x3072 numpy array of uint8s. Each row of the array stores a 32x32 colour image. \r\n",
        "#           The first 1024 entries contain the red channel values, the next 1024 the green, and the final 1024 the blue. \r\n",
        "#           The image is stored in row-major order, so that the first 32 entries of the array are the red channel values \r\n",
        "#           of the first row of the image.\r\n",
        "#   labels -- a list of 10000 numbers in the range 0-9. \r\n",
        "#             The number at index i indicates the label of the ith image in the array data."
      ],
      "execution_count": 77,
      "outputs": []
    },
    {
      "cell_type": "code",
      "metadata": {
        "id": "SftcRS5Ry-XQ"
      },
      "source": [
        "def loadbatch(batchname):\r\n",
        "    folder = r'drive/My Drive/datasets/cifar-10-batches-py'\r\n",
        "    batch = unpickle(folder+\"/\"+batchname)\r\n",
        "    return batch"
      ],
      "execution_count": 81,
      "outputs": []
    },
    {
      "cell_type": "code",
      "metadata": {
        "id": "SGul_Nw3zQrf"
      },
      "source": [
        "def loadlabelnames():\r\n",
        "    folder = r'drive/My Drive/datasets/cifar-10-batches-py'\r\n",
        "    meta = unpickle(folder+\"/\"+'batches.meta')\r\n",
        "    return meta[b'label_names']"
      ],
      "execution_count": 82,
      "outputs": []
    },
    {
      "cell_type": "code",
      "metadata": {
        "id": "YFHLLSaHzVO3"
      },
      "source": [
        "def visualise(data, index):\r\n",
        "    # MM Jan 2019: Given a CIFAR data nparray and the index of an image, display the image.\r\n",
        "    # Note that the images will be quite fuzzy looking, because they are low res (32x32).\r\n",
        "\r\n",
        "    picture = data[index]\r\n",
        "    # Initially, the data is a 1D array of 3072 pixels; reshape it to a 3D array of 3x32x32 pixels\r\n",
        "    # Note: after reshaping like this, you could select one colour channel or average them.\r\n",
        "    picture.shape = (3,32,32) \r\n",
        "    \r\n",
        "    # Plot.imshow requires the RGB to be the third dimension, not the first, so need to rearrange\r\n",
        "    picture = picture.transpose([1, 2, 0])\r\n",
        "    plt.imshow(picture)\r\n",
        "    plt.show()"
      ],
      "execution_count": 83,
      "outputs": []
    },
    {
      "cell_type": "code",
      "metadata": {
        "colab": {
          "base_uri": "https://localhost:8080/"
        },
        "id": "HH3EuZPzzYEO",
        "outputId": "202d0475-006d-41aa-bae9-42fbd053079b"
      },
      "source": [
        "batch5 = loadbatch('data_batch_5')\r\n",
        "print(\"Number of items in the batch is\", len(batch5))\r\n",
        "\r\n",
        "# Display all keys, so we can see the ones we want\r\n",
        "print('All keys in the batch:', batch5.keys())"
      ],
      "execution_count": 85,
      "outputs": [
        {
          "output_type": "stream",
          "text": [
            "Number of items in the batch is 4\n",
            "All keys in the batch: dict_keys([b'batch_label', b'labels', b'data', b'filenames'])\n"
          ],
          "name": "stdout"
        }
      ]
    },
    {
      "cell_type": "code",
      "metadata": {
        "colab": {
          "base_uri": "https://localhost:8080/"
        },
        "id": "fRbIiDDLzu3A",
        "outputId": "ace7d0f2-29fc-49c3-d252-9030a54800bb"
      },
      "source": [
        "data = batch5[b'data']\r\n",
        "labels = batch5[b'labels']\r\n",
        "print('size of data in batch:',len(data),\", size of labels:\",len(labels))\r\n",
        "print(type(data))\r\n",
        "print(data.shape)\r\n",
        "\r\n",
        "names = loadlabelnames()"
      ],
      "execution_count": 86,
      "outputs": [
        {
          "output_type": "stream",
          "text": [
            "size of data in batch: 10000 , size of labels: 10000\n",
            "<class 'numpy.ndarray'>\n",
            "(10000, 3072)\n"
          ],
          "name": "stdout"
        }
      ]
    },
    {
      "cell_type": "markdown",
      "metadata": {
        "id": "xRFwZV4oz1cA"
      },
      "source": [
        "## Visualize the data"
      ]
    },
    {
      "cell_type": "code",
      "metadata": {
        "colab": {
          "base_uri": "https://localhost:8080/",
          "height": 1000
        },
        "id": "_dmdGZNEz3-C",
        "outputId": "0ee8885d-999b-4aa2-9de8-83a7d36dade2"
      },
      "source": [
        "# Display a few images from the batch\r\n",
        "for i in range (0,10):\r\n",
        "    visualise(data, i)\r\n",
        "    print(\"Image\", i,\": Class is \", names[labels[i]])"
      ],
      "execution_count": 87,
      "outputs": [
        {
          "output_type": "display_data",
          "data": {
            "image/png": "[encoded data removed]",
            "text/plain": [
              "<Figure size 432x288 with 1 Axes>"
            ]
          },
          "metadata": {
            "tags": [],
            "needs_background": "light"
          }
        },
        {
          "output_type": "stream",
          "text": [
            "Image 0 : Class is  b'automobile'\n"
          ],
          "name": "stdout"
        },
        {
          "output_type": "display_data",
          "data": {
            "image/png": "[encoded data removed]",
            "text/plain": [
              "<Figure size 432x288 with 1 Axes>"
            ]
          },
          "metadata": {
            "tags": [],
            "needs_background": "light"
          }
        },
        {
          "output_type": "stream",
          "text": [
            "Image 1 : Class is  b'ship'\n"
          ],
          "name": "stdout"
        },
        {
          "output_type": "display_data",
          "data": {
            "image/png": "[encoded data removed]",
            "text/plain": [
              "<Figure size 432x288 with 1 Axes>"
            ]
          },
          "metadata": {
            "tags": [],
            "needs_background": "light"
          }
        },
        {
          "output_type": "stream",
          "text": [
            "Image 2 : Class is  b'dog'\n"
          ],
          "name": "stdout"
        },
        {
          "output_type": "display_data",
          "data": {
            "image/png": "[encoded data removed]",
            "text/plain": [
              "<Figure size 432x288 with 1 Axes>"
            ]
          },
          "metadata": {
            "tags": [],
            "needs_background": "light"
          }
        },
        {
          "output_type": "stream",
          "text": [
            "Image 3 : Class is  b'automobile'\n"
          ],
          "name": "stdout"
        },
        {
          "output_type": "display_data",
          "data": {
            "image/png": "[encoded data removed]",
            "text/plain": [
              "<Figure size 432x288 with 1 Axes>"
            ]
          },
          "metadata": {
            "tags": [],
            "needs_background": "light"
          }
        },
        {
          "output_type": "stream",
          "text": [
            "Image 4 : Class is  b'dog'\n"
          ],
          "name": "stdout"
        },
        {
          "output_type": "display_data",
          "data": {
            "image/png": "[encoded data removed]",
            "text/plain": [
              "<Figure size 432x288 with 1 Axes>"
            ]
          },
          "metadata": {
            "tags": [],
            "needs_background": "light"
          }
        },
        {
          "output_type": "stream",
          "text": [
            "Image 5 : Class is  b'horse'\n"
          ],
          "name": "stdout"
        },
        {
          "output_type": "display_data",
          "data": {
            "image/png": "[encoded data removed]",
            "text/plain": [
              "<Figure size 432x288 with 1 Axes>"
            ]
          },
          "metadata": {
            "tags": [],
            "needs_background": "light"
          }
        },
        {
          "output_type": "stream",
          "text": [
            "Image 6 : Class is  b'deer'\n"
          ],
          "name": "stdout"
        },
        {
          "output_type": "display_data",
          "data": {
            "image/png": "[encoded data removed]",
            "text/plain": [
              "<Figure size 432x288 with 1 Axes>"
            ]
          },
          "metadata": {
            "tags": [],
            "needs_background": "light"
          }
        },
        {
          "output_type": "stream",
          "text": [
            "Image 7 : Class is  b'cat'\n"
          ],
          "name": "stdout"
        },
        {
          "output_type": "display_data",
          "data": {
            "image/png": "[encoded data removed]",
            "text/plain": [
              "<Figure size 432x288 with 1 Axes>"
            ]
          },
          "metadata": {
            "tags": [],
            "needs_background": "light"
          }
        },
        {
          "output_type": "stream",
          "text": [
            "Image 8 : Class is  b'ship'\n"
          ],
          "name": "stdout"
        },
        {
          "output_type": "display_data",
          "data": {
            "image/png": "[encoded data removed]",
            "text/plain": [
              "<Figure size 432x288 with 1 Axes>"
            ]
          },
          "metadata": {
            "tags": [],
            "needs_background": "light"
          }
        },
        {
          "output_type": "stream",
          "text": [
            "Image 9 : Class is  b'bird'\n"
          ],
          "name": "stdout"
        }
      ]
    },
    {
      "cell_type": "code",
      "metadata": {
        "colab": {
          "base_uri": "https://localhost:8080/"
        },
        "id": "BgyPWhDyz7Ca",
        "outputId": "2aed8ab0-944b-4124-d32e-3c84d8698c7d"
      },
      "source": [
        "data"
      ],
      "execution_count": 88,
      "outputs": [
        {
          "output_type": "execute_result",
          "data": {
            "text/plain": [
              "array([[255, 252, 253, ..., 173, 231, 248],\n",
              "       [127, 126, 127, ..., 102, 108, 112],\n",
              "       [116,  64,  19, ...,   7,   6,   5],\n",
              "       ...,\n",
              "       [ 35,  40,  42, ...,  77,  66,  50],\n",
              "       [189, 186, 185, ..., 169, 171, 171],\n",
              "       [229, 236, 234, ..., 173, 162, 161]], dtype=uint8)"
            ]
          },
          "metadata": {
            "tags": []
          },
          "execution_count": 88
        }
      ]
    },
    {
      "cell_type": "code",
      "metadata": {
        "id": "h2MS3OAUz87S"
      },
      "source": [
        "image_data = np.array(data)"
      ],
      "execution_count": 89,
      "outputs": []
    },
    {
      "cell_type": "code",
      "metadata": {
        "colab": {
          "base_uri": "https://localhost:8080/"
        },
        "id": "g5mfx_Qzz__B",
        "outputId": "60c578ef-255a-4b5c-e883-2234421a8914"
      },
      "source": [
        "pd.unique(labels)"
      ],
      "execution_count": 98,
      "outputs": [
        {
          "output_type": "execute_result",
          "data": {
            "text/plain": [
              "array([1, 8, 5, 7, 4, 3, 2, 0, 9, 6])"
            ]
          },
          "metadata": {
            "tags": []
          },
          "execution_count": 98
        }
      ]
    },
    {
      "cell_type": "markdown",
      "metadata": {
        "id": "oVEneHYB0EEP"
      },
      "source": [
        "## Labels of CIFAR Dataset"
      ]
    },
    {
      "cell_type": "code",
      "metadata": {
        "colab": {
          "base_uri": "https://localhost:8080/"
        },
        "id": "MAjJdEV-0Cpf",
        "outputId": "68f60e95-8ce4-4faa-b354-b52e403648af"
      },
      "source": [
        "for n in names:\r\n",
        "    print(n.decode(\"utf-8\"),'-',names.index(n))"
      ],
      "execution_count": 91,
      "outputs": [
        {
          "output_type": "stream",
          "text": [
            "airplane - 0\n",
            "automobile - 1\n",
            "bird - 2\n",
            "cat - 3\n",
            "deer - 4\n",
            "dog - 5\n",
            "frog - 6\n",
            "horse - 7\n",
            "ship - 8\n",
            "truck - 9\n"
          ],
          "name": "stdout"
        }
      ]
    },
    {
      "cell_type": "markdown",
      "metadata": {
        "id": "gL5nEYqj0JU5"
      },
      "source": [
        "## Predict between any two classes:\r\n",
        "0 = airplane\r\n",
        "\r\n",
        "2 = bird"
      ]
    },
    {
      "cell_type": "code",
      "metadata": {
        "id": "S73PPW5a0VvI"
      },
      "source": [
        "index=[]\r\n",
        "index_counter=0\r\n",
        "for label in labels:\r\n",
        "    if label==0 or label==2:\r\n",
        "        index.append(index_counter)\r\n",
        "    index_counter = index_counter+1"
      ],
      "execution_count": 92,
      "outputs": []
    },
    {
      "cell_type": "code",
      "metadata": {
        "colab": {
          "base_uri": "https://localhost:8080/"
        },
        "id": "i_o2P-dK0aGX",
        "outputId": "f998f0c8-19a2-4ead-dc52-13484974e5eb"
      },
      "source": [
        "selected_labels = []\r\n",
        "for i in index:\r\n",
        "  selected_labels.append(labels[i])\r\n",
        "pd.unique(selected_labels)"
      ],
      "execution_count": 102,
      "outputs": [
        {
          "output_type": "execute_result",
          "data": {
            "text/plain": [
              "array([2, 0])"
            ]
          },
          "metadata": {
            "tags": []
          },
          "execution_count": 102
        }
      ]
    },
    {
      "cell_type": "code",
      "metadata": {
        "id": "Ujb1G8uj1a3w"
      },
      "source": [
        "data_train=image_data[index]"
      ],
      "execution_count": 100,
      "outputs": []
    },
    {
      "cell_type": "code",
      "metadata": {
        "colab": {
          "base_uri": "https://localhost:8080/"
        },
        "id": "1883L8ET1dVA",
        "outputId": "4f549378-a7a6-49b7-92c6-ad88b8ff09c9"
      },
      "source": [
        "data_train"
      ],
      "execution_count": 101,
      "outputs": [
        {
          "output_type": "execute_result",
          "data": {
            "text/plain": [
              "array([[ 17,  25,  22, ..., 126, 122, 116],\n",
              "       [ 75, 104,  84, ..., 118, 115, 109],\n",
              "       [238, 248, 253, ..., 149, 155, 153],\n",
              "       ...,\n",
              "       [155, 154, 154, ...,  71,  72,  72],\n",
              "       [156, 155, 156, ..., 163, 162, 162],\n",
              "       [145, 151, 156, ...,  56,  53,  54]], dtype=uint8)"
            ]
          },
          "metadata": {
            "tags": []
          },
          "execution_count": 101
        }
      ]
    },
    {
      "cell_type": "code",
      "metadata": {
        "id": "m1H7hkmm1c_j"
      },
      "source": [
        "target=[]\r\n",
        "for i in selected_labels:\r\n",
        "    if i==0:\r\n",
        "        target.append(0)\r\n",
        "    else:\r\n",
        "        target.append(1)"
      ],
      "execution_count": 104,
      "outputs": []
    },
    {
      "cell_type": "code",
      "metadata": {
        "colab": {
          "base_uri": "https://localhost:8080/"
        },
        "id": "zrIuFnts3YP3",
        "outputId": "c64634c5-3e31-4161-e504-7e6fa95a4457"
      },
      "source": [
        "pd.unique(target)"
      ],
      "execution_count": 105,
      "outputs": [
        {
          "output_type": "execute_result",
          "data": {
            "text/plain": [
              "array([1, 0])"
            ]
          },
          "metadata": {
            "tags": []
          },
          "execution_count": 105
        }
      ]
    },
    {
      "cell_type": "code",
      "metadata": {
        "id": "LfJXTSIh3aO4"
      },
      "source": [
        "x_train,x_test,y_train,y_test=train_test_split(data_train,target,test_size=0.20)"
      ],
      "execution_count": 106,
      "outputs": []
    },
    {
      "cell_type": "code",
      "metadata": {
        "id": "mkYffMvK3da-"
      },
      "source": [
        "def modal_part_four(x,y,max_iter,alpha,threshold=10**-6):\r\n",
        "\r\n",
        "    ## take a random wight at the start, it can be any wight because through the iteration we will be going to update it \r\n",
        "    weight=np.random.normal(0,0.01,x.shape[1])\r\n",
        "    ## it is the bias it will also any number but we take a uniform array of biases throught out, we will be adding out bias to weights\r\n",
        "    bias=np.random.uniform(0,1)\r\n",
        "\r\n",
        "    ## we will loop till the value of maximum teration or if the convergence comes before max iteration we break the loop\r\n",
        "    while(max_iter!=0):\r\n",
        "        index = np.random.randint(x.shape[0])\r\n",
        "        x_index = x[index]\r\n",
        "        y_index = y[index]\r\n",
        "\r\n",
        "        ## we valculate the value of y_hat and with the value of y_hat we find out cost\r\n",
        "        y_hat=sigmoid(np.dot(weight,x_index)+bias)\r\n",
        "        ## cost is calculated on the bases of the y_hat\r\n",
        "        cost_old=cost(y_hat,y_index)\r\n",
        "\r\n",
        "        ## we update out wights \r\n",
        "        weight=weight-alpha*get_weight(y_hat,y_index,x_index)\r\n",
        "        ## update bias\r\n",
        "        bias=bias-alpha*get_bias(y_hat,y_index)\r\n",
        "\r\n",
        "        ## now with the updated bias and wights we calcualte our new cost\r\n",
        "        ## then new cost is more relevent as we have upadated our weights\r\n",
        "        y_hat=sigmoid(np.dot(weight,x_index)+bias)\r\n",
        "        cost_new=cost(y_hat,y_index)\r\n",
        "\r\n",
        "        ## we take the absolute value and break the loop then the cost difference is less then the threshold. \r\n",
        "        ## more low the threshold more accurate the values are\r\n",
        "        if abs(cost_old-cost_new) < threshold:\r\n",
        "            break\r\n",
        "        \r\n",
        "        ## we dicrease the iteration to reach end of the loop\r\n",
        "        max_iter = max_iter - 1\r\n",
        "\r\n",
        "    return weight,bias"
      ],
      "execution_count": 107,
      "outputs": []
    },
    {
      "cell_type": "code",
      "metadata": {
        "id": "KYAEYkLE3fh_"
      },
      "source": [
        "## here we set the cut off threshold and with the wight and bias we calculate our target value\r\n",
        "def predict(x,w,b):\r\n",
        "    y_return=[]\r\n",
        "    cut_off=0\r\n",
        "    y_predict=np.dot(x,w)+b\r\n",
        "    for y in y_predict:\r\n",
        "        if y>cut_off:\r\n",
        "            y_return.append(1)\r\n",
        "        else:\r\n",
        "            y_return.append(0)\r\n",
        "    return y_return"
      ],
      "execution_count": 108,
      "outputs": []
    },
    {
      "cell_type": "code",
      "metadata": {
        "id": "1e2GZqc93hrA"
      },
      "source": [
        "## here actual and predicted y values are compared and we find the accuracy\r\n",
        "def accuracy(predict_y,actual_y):\r\n",
        "    y_count = 0\r\n",
        "    for i in range(len(actual_y)):\r\n",
        "        if predict_y[i]==actual_y[i]:\r\n",
        "            y_count=y_count+1\r\n",
        "    return y_count/len(actual_y)"
      ],
      "execution_count": 109,
      "outputs": []
    },
    {
      "cell_type": "code",
      "metadata": {
        "colab": {
          "base_uri": "https://localhost:8080/"
        },
        "id": "HdPka53B3jwX",
        "outputId": "8287408d-2066-4a63-95de-6d280d3851e8"
      },
      "source": [
        "w_1,b_1= modal_part_four(x_train,y_train,max_iter=100000,alpha=0.001,threshold=10**-6)\r\n",
        "y_pred=predict(x_test,w_1,b_1)\r\n",
        "accuracy(y_pred,y_test)"
      ],
      "execution_count": 115,
      "outputs": [
        {
          "output_type": "stream",
          "text": [
            "/usr/local/lib/python3.7/dist-packages/ipykernel_launcher.py:2: RuntimeWarning: divide by zero encountered in log\n",
            "  \n",
            "/usr/local/lib/python3.7/dist-packages/ipykernel_launcher.py:2: RuntimeWarning: invalid value encountered in double_scalars\n",
            "  \n",
            "/usr/local/lib/python3.7/dist-packages/ipykernel_launcher.py:31: RuntimeWarning: invalid value encountered in double_scalars\n",
            "/usr/local/lib/python3.7/dist-packages/ipykernel_launcher.py:2: RuntimeWarning: overflow encountered in exp\n",
            "  \n"
          ],
          "name": "stderr"
        },
        {
          "output_type": "execute_result",
          "data": {
            "text/plain": [
              "0.7741116751269036"
            ]
          },
          "metadata": {
            "tags": []
          },
          "execution_count": 115
        }
      ]
    }
  ]
}