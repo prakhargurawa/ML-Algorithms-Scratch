{
  "nbformat": 4,
  "nbformat_minor": 0,
  "metadata": {
    "colab": {
      "name": "Perceptron_Learning.ipynb",
      "provenance": []
    },
    "kernelspec": {
      "name": "python3",
      "display_name": "Python 3"
    }
  },
  "cells": [
    {
      "cell_type": "markdown",
      "metadata": {
        "id": "fGoxeu3SK3MX"
      },
      "source": [
        "# Perceptron Learning"
      ]
    },
    {
      "cell_type": "markdown",
      "metadata": {
        "id": "eZOxVnJfK8oX"
      },
      "source": [
        "**Import Libraries**"
      ]
    },
    {
      "cell_type": "code",
      "metadata": {
        "id": "1pYc5uBeKu70"
      },
      "source": [
        "from math import exp, sqrt\r\n",
        "from random import random\r\n",
        "import numpy as np\r\n",
        "import matplotlib.pyplot as plt"
      ],
      "execution_count": 18,
      "outputs": []
    },
    {
      "cell_type": "markdown",
      "metadata": {
        "id": "nIU4fckRLBmX"
      },
      "source": [
        "**Import Dataset**"
      ]
    },
    {
      "cell_type": "code",
      "metadata": {
        "id": "16Wo2QNuLDue"
      },
      "source": [
        "train_X = np.array([\r\n",
        "        [1,2,3],\r\n",
        "        [4,5,6],\r\n",
        "        [7,8,9]\r\n",
        "])\r\n",
        "\r\n",
        "train_y = [ 1,0,0 ]         "
      ],
      "execution_count": 2,
      "outputs": []
    },
    {
      "cell_type": "markdown",
      "metadata": {
        "id": "ifvubKNaLJAI"
      },
      "source": [
        "**Predict/Loss/Derivative functions**"
      ]
    },
    {
      "cell_type": "code",
      "metadata": {
        "id": "TOe0yMadLNAn"
      },
      "source": [
        "def predict(X,A,b):\r\n",
        "  return 1/(1 + exp(sum(x*a for x,a in zip(X,A)) + b))\r\n",
        "\r\n",
        "def loss(A,b):\r\n",
        "  return sum(\r\n",
        "      sqrt((y - predict(X,A,b))**2) for y,X in zip(train_y, train_X))\r\n",
        "  \r\n",
        "def dLdA(A,b):  \r\n",
        "  return sum(2.0 * (y - float(predict(X,A,b))) * (1.0 - predict(X,A,b)) * predict(X,A,b) * X \r\n",
        "             for y,X in zip(train_y, train_X))\r\n",
        "  \r\n",
        "def dLdB(A,b):\r\n",
        "  return sum(2.0 * (y - predict(X,A,b)) * (1.0 - predict(X,A,b)) * predict(X,A,b)\r\n",
        "             for y,X in zip(train_y, train_X))"
      ],
      "execution_count": 11,
      "outputs": []
    },
    {
      "cell_type": "markdown",
      "metadata": {
        "id": "v-UsAPNMLSeo"
      },
      "source": [
        "**Iterative Learning**"
      ]
    },
    {
      "cell_type": "code",
      "metadata": {
        "colab": {
          "base_uri": "https://localhost:8080/"
        },
        "id": "O4t1P_h0LQjf",
        "outputId": "8d2e995c-2a60-4501-aab8-81e9aa9a4e9a"
      },
      "source": [
        "eta = 1e-1\r\n",
        "\r\n",
        "A = np.array([random(), random(), random()])\r\n",
        "b = random()\r\n",
        "itrList,lossList = list(),list()\r\n",
        "for i in range(200):\r\n",
        "  dA = dLdA(A,b)\r\n",
        "  db = dLdB(A,b)\r\n",
        "  A = A - eta * dA\r\n",
        "  b = b - eta * db\r\n",
        "  l = loss(A,b)\r\n",
        "  print(l)\r\n",
        "  itrList.append(i);lossList.append(l)\r\n"
      ],
      "execution_count": 24,
      "outputs": [
        {
          "output_type": "stream",
          "text": [
            "0.9850219293096649\n",
            "0.9843664515889774\n",
            "0.9836532799504286\n",
            "0.9828746764461631\n",
            "0.9820214907126894\n",
            "0.9810828302298761\n",
            "0.9800456359708154\n",
            "0.978894131024515\n",
            "0.9776090968092578\n",
            "0.9761669126064526\n",
            "0.9745382663117412\n",
            "0.9726864028388439\n",
            "0.9705647142543099\n",
            "0.9681133812804277\n",
            "0.9652546325109148\n",
            "0.9618859721146803\n",
            "0.9578704123372705\n",
            "0.9530223265633817\n",
            "0.9470871178209084\n",
            "0.9397130419452653\n",
            "0.9304165181615992\n",
            "0.9185567263066365\n",
            "0.9033935772113731\n",
            "0.8845275170405832\n",
            "0.86385790813931\n",
            "0.8528861959068137\n",
            "0.8904571441372412\n",
            "0.9989832972299464\n",
            "0.9704765984000192\n",
            "0.975367411756539\n",
            "0.9555921759080673\n",
            "0.9533512513273253\n",
            "0.9383998595894062\n",
            "0.9322164243017887\n",
            "0.919857296200056\n",
            "0.9116027518942159\n",
            "0.9005786065585712\n",
            "0.8913376298591372\n",
            "0.8809846689363986\n",
            "0.8713603990199276\n",
            "0.8613673718501491\n",
            "0.8516784980878647\n",
            "0.8419273114837577\n",
            "0.8323361692115763\n",
            "0.8228014811384206\n",
            "0.8133913759146314\n",
            "0.8040840546634178\n",
            "0.7949007082050962\n",
            "0.785840549656678\n",
            "0.776911518115857\n",
            "0.7681164628460904\n",
            "0.759459244522486\n",
            "0.7509422818334206\n",
            "0.7425676184197452\n",
            "0.7343365992673065\n",
            "0.7262500676574052\n",
            "0.7183083709136048\n",
            "0.7105114275326676\n",
            "0.7028587699670066\n",
            "0.6953495906226985\n",
            "0.6879827826393121\n",
            "0.6807569779748843\n",
            "0.6736705822219033\n",
            "0.6667218064572612\n",
            "0.6599086962285832\n",
            "0.6532291578442024\n",
            "0.6466809821288872\n",
            "0.6402618658128599\n",
            "0.6339694307208183\n",
            "0.6278012409249921\n",
            "0.6217548180215772\n",
            "0.6158276546838539\n",
            "0.6100172266382409\n",
            "0.6043210032018279\n",
            "0.5987364565118135\n",
            "0.5932610695689644\n",
            "0.5878923432088787\n",
            "0.5826278021066088\n",
            "0.5774649999121706\n",
            "0.5724015236067346\n",
            "0.5674349971618803\n",
            "0.5625630845772794\n",
            "0.5577834923655298\n",
            "0.5530939715466584\n",
            "0.548492319208997\n",
            "0.5439763796877561\n",
            "0.5395440454076242\n",
            "0.5351932574311362\n",
            "0.5309220057503162\n",
            "0.5267283293552503\n",
            "0.5226103161097003\n",
            "0.518566102460661\n",
            "0.5145938730058376\n",
            "0.5106918599403752\n",
            "0.506858342401774\n",
            "0.503091645729767\n",
            "0.49939014065598003\n",
            "0.4957522424364584\n",
            "0.49217640993855344\n",
            "0.48866114469227373\n",
            "0.4852049899149301\n",
            "0.4818065295167856\n",
            "0.4784643870944217\n",
            "0.4751772249176253\n",
            "0.47194374291482444\n",
            "0.4687626776613796\n",
            "0.46563280137442264\n",
            "0.4625529209173778\n",
            "0.4595218768168134\n",
            "0.4565385422938369\n",
            "0.4536018223118765\n",
            "0.4507106526423466\n",
            "0.44786399894941237\n",
            "0.4450608558948098\n",
            "0.4423002462634504\n",
            "0.43958122011035244\n",
            "0.4369028539292676\n",
            "0.4342642498432234\n",
            "0.4316645348170861\n",
            "0.4291028598921243\n",
            "0.42657839944248066\n",
            "0.4240903504533619\n",
            "0.42163793182070514\n",
            "0.41922038367201475\n",
            "0.41683696670802134\n",
            "0.414486961564775\n",
            "0.41216966819575646\n",
            "0.4098844052735616\n",
            "0.40763050961070074\n",
            "0.40540733559903613\n",
            "0.40321425466737404\n",
            "0.40105065475671725\n",
            "0.3989159398126905\n",
            "0.39680952929463353\n",
            "0.39473085770087873\n",
            "0.39267937410971854\n",
            "0.3906545417355784\n",
            "0.3886558374999204\n",
            "0.3866827516164051\n",
            "0.384734787189853\n",
            "0.3828114598285516\n",
            "0.38091229726946996\n",
            "0.37903683901594537\n",
            "0.3771846359874271\n",
            "0.3753552501808647\n",
            "0.3735482543433461\n",
            "0.37176323165559577\n",
            "0.3699997754259641\n",
            "0.3682574887945366\n",
            "0.36653598444702157\n",
            "0.36483488433806355\n",
            "0.36315381942366276\n",
            "0.36149242940237564\n",
            "0.3598503624649928\n",
            "0.3582272750523909\n",
            "0.35662283162127517\n",
            "0.3550367044175363\n",
            "0.3534685732569479\n",
            "0.35191812531295075\n",
            "0.35038505491127314\n",
            "0.34886906333114776\n",
            "0.3473698586128889\n",
            "0.3458871553716148\n",
            "0.3444206746168899\n",
            "0.3429701435780874\n",
            "0.34153529553526824\n",
            "0.3401158696553837\n",
            "0.33871161083361706\n",
            "0.3373222695396861\n",
            "0.3359476016689321\n",
            "0.33458736839803016\n",
            "0.33324133604516276\n",
            "0.3319092759344998\n",
            "0.3305909642648398\n",
            "0.329286181982265\n",
            "0.3279947146566785\n",
            "0.32671635236208774\n",
            "0.3254508895605047\n",
            "0.3241981249893451\n",
            "0.32295786155220385\n",
            "0.3217299062128952\n",
            "0.32051406989264447\n",
            "0.3193101673703315\n",
            "0.31811801718567545\n",
            "0.3169374415452724\n",
            "0.3157682662313819\n",
            "0.3146103205133772\n",
            "0.3134634370617693\n",
            "0.3123274518647194\n",
            "0.31120220414695987\n",
            "0.3100875362910428\n",
            "0.308983293760842\n",
            "0.30788932502723537\n",
            "0.3068054814958938\n",
            "0.3057316174371144\n",
            "0.3046675899176268\n",
            "0.3036132587343122\n",
            "0.3025684863497735\n",
            "0.3015331378296991\n",
            "0.3005070807819584\n"
          ],
          "name": "stdout"
        }
      ]
    },
    {
      "cell_type": "code",
      "metadata": {
        "colab": {
          "base_uri": "https://localhost:8080/",
          "height": 282
        },
        "id": "LvxBNWglMUxf",
        "outputId": "a1251195-ee46-407c-ad67-f6b628c8786e"
      },
      "source": [
        "plt.plot(itrList,lossList)"
      ],
      "execution_count": 25,
      "outputs": [
        {
          "output_type": "execute_result",
          "data": {
            "text/plain": [
              "[<matplotlib.lines.Line2D at 0x7f4df98f7390>]"
            ]
          },
          "metadata": {
            "tags": []
          },
          "execution_count": 25
        },
        {
          "output_type": "display_data",
          "data": {
            "image/png": "[encoded data removed]",
            "text/plain": [
              "<Figure size 432x288 with 1 Axes>"
            ]
          },
          "metadata": {
            "tags": [],
            "needs_background": "light"
          }
        }
      ]
    }
  ]
}