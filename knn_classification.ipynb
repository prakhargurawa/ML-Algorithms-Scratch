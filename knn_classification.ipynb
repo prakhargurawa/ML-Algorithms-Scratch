{
  "nbformat": 4,
  "nbformat_minor": 0,
  "metadata": {
    "colab": {
      "name": "knn_classification.ipynb",
      "provenance": []
    },
    "kernelspec": {
      "name": "python3",
      "display_name": "Python 3"
    }
  },
  "cells": [
    {
      "cell_type": "code",
      "metadata": {
        "id": "GX59OAEwM7Qp"
      },
      "source": [
        "# KNN is non parametric,lazy classification/regression algorithm\r\n",
        "# KNN makes predictions by using the most similar historical examples to the sample data\r\n",
        "from math import sqrt"
      ],
      "execution_count": 4,
      "outputs": []
    },
    {
      "cell_type": "code",
      "metadata": {
        "id": "ukwZgjD3Nwwf"
      },
      "source": [
        "# utility function to calculate Euclidean distance between two vectors\r\n",
        "def euclidean(r1,r2):\r\n",
        "  distance = 0.0\r\n",
        "  for i in range(len(r1)-1):\r\n",
        "    distance = distance + (r1[i] - r2[i])**2\r\n",
        "  return sqrt(distance)"
      ],
      "execution_count": 5,
      "outputs": []
    },
    {
      "cell_type": "code",
      "metadata": {
        "id": "ZbBz_O_Aas8S"
      },
      "source": [
        "dataset = [[2.7810836,2.550537003,0],\r\n",
        "\t[1.465489372,2.362125076,0],\r\n",
        "\t[3.396561688,4.400293529,0],\r\n",
        "\t[1.38807019,1.850220317,0],\r\n",
        "\t[3.06407232,3.005305973,0],\r\n",
        "\t[7.627531214,2.759262235,1],\r\n",
        "\t[5.332441248,2.088626775,1],\r\n",
        "\t[6.922596716,1.77106367,1],\r\n",
        "\t[8.675418651,-0.242068655,1],\r\n",
        "\t[7.673756466,3.508563011,1]]"
      ],
      "execution_count": 6,
      "outputs": []
    },
    {
      "cell_type": "code",
      "metadata": {
        "colab": {
          "base_uri": "https://localhost:8080/"
        },
        "id": "yX_dww_raw5n",
        "outputId": "6365669d-f930-4171-b1ec-bd69e2753e20"
      },
      "source": [
        "for row in dataset:\r\n",
        "  print(euclidean(dataset[0],row))"
      ],
      "execution_count": 7,
      "outputs": [
        {
          "output_type": "stream",
          "text": [
            "0.0\n",
            "1.3290173915275787\n",
            "1.9494646655653247\n",
            "1.5591439385540549\n",
            "0.5356280721938492\n",
            "4.850940186986411\n",
            "2.592833759950511\n",
            "4.214227042632867\n",
            "6.522409988228337\n",
            "4.985585382449795\n"
          ],
          "name": "stdout"
        }
      ]
    },
    {
      "cell_type": "code",
      "metadata": {
        "id": "xsuY-UlZb0IB"
      },
      "source": [
        "# Locate the most similar neighbors\r\n",
        "def get_neighbors(train, test_row, num_neighbors):\r\n",
        "\tdistances = list()\r\n",
        "\tfor train_row in train:\r\n",
        "\t\tdist = euclidean(test_row, train_row)\r\n",
        "\t\tdistances.append((train_row, dist))\r\n",
        "\tdistances.sort(key=lambda tup: tup[1])\r\n",
        "\tneighbors = list()\r\n",
        "\tfor i in range(num_neighbors):\r\n",
        "\t\tneighbors.append(distances[i][0])\r\n",
        "\treturn neighbors"
      ],
      "execution_count": 10,
      "outputs": []
    },
    {
      "cell_type": "code",
      "metadata": {
        "colab": {
          "base_uri": "https://localhost:8080/"
        },
        "id": "mobazQ8-c86g",
        "outputId": "3e91b63f-9e4d-4ff8-c629-2134e5393cd7"
      },
      "source": [
        "neighbors = get_neighbors(dataset, dataset[0], 3)\r\n",
        "for neighbor in neighbors:\r\n",
        "\tprint(neighbor)"
      ],
      "execution_count": 11,
      "outputs": [
        {
          "output_type": "stream",
          "text": [
            "[2.7810836, 2.550537003, 0]\n",
            "[3.06407232, 3.005305973, 0]\n",
            "[1.465489372, 2.362125076, 0]\n"
          ],
          "name": "stdout"
        }
      ]
    },
    {
      "cell_type": "code",
      "metadata": {
        "id": "z6jcVe60dOPB"
      },
      "source": [
        "# Majority class is returned as predicted class\r\n",
        "def predict(train,test_row,num_neighbors):\r\n",
        "  neighbors = get_neighbors(train=train,test_row=test_row,num_neighbors=num_neighbors)\r\n",
        "  output_values = [row[2] for row in neighbors]\r\n",
        "  return max(set(output_values), key=output_values.count)"
      ],
      "execution_count": 17,
      "outputs": []
    },
    {
      "cell_type": "code",
      "metadata": {
        "id": "8DVS-glAdttC"
      },
      "source": [
        "prediction = predict(dataset, dataset[0], 3)"
      ],
      "execution_count": 19,
      "outputs": []
    },
    {
      "cell_type": "code",
      "metadata": {
        "colab": {
          "base_uri": "https://localhost:8080/"
        },
        "id": "YxzTbpr5eAN5",
        "outputId": "4e8324dc-9eac-44e4-bb5c-b11a3a699661"
      },
      "source": [
        "print(f'Original {dataset[0][-1]} / Predicted {prediction}.')"
      ],
      "execution_count": 22,
      "outputs": [
        {
          "output_type": "stream",
          "text": [
            "Original 0 / Predicted 0.\n"
          ],
          "name": "stdout"
        }
      ]
    }
  ]
}